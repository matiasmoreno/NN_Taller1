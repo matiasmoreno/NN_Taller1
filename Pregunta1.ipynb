{
  "nbformat": 4,
  "nbformat_minor": 0,
  "metadata": {
    "colab": {
      "name": "Pregunta1.ipynb",
      "provenance": [],
      "collapsed_sections": [],
      "toc_visible": true
    },
    "kernelspec": {
      "name": "python3",
      "display_name": "Python 3"
    },
    "accelerator": "GPU"
  },
  "cells": [
    {
      "cell_type": "code",
      "metadata": {
        "id": "xRuDBjBd-342",
        "colab_type": "code",
        "colab": {}
      },
      "source": [
        "import numpy as np\n",
        "import matplotlib.pyplot as plt\n",
        "from keras.models import Sequential\n",
        "from keras.layers import Dense, Conv2D, Flatten, Conv1D, MaxPool2D, MaxPool1D\n",
        "from keras.utils import to_categorical"
      ],
      "execution_count": 0,
      "outputs": []
    },
    {
      "cell_type": "markdown",
      "metadata": {
        "id": "i_jk9mVeB3AP",
        "colab_type": "text"
      },
      "source": [
        "### Descargamos el dataset"
      ]
    },
    {
      "cell_type": "code",
      "metadata": {
        "id": "M1m31OQ1Bflg",
        "colab_type": "code",
        "outputId": "a5e2305c-7231-43d7-fce8-ffc20c9ffdb3",
        "colab": {
          "base_uri": "https://localhost:8080/",
          "height": 53
        }
      },
      "source": [
        "from keras.datasets import mnist\n",
        "#download mnist data and split into train and test sets\n",
        "(X_train, y_train), (X_test, y_test) = mnist.load_data()"
      ],
      "execution_count": 0,
      "outputs": [
        {
          "output_type": "stream",
          "text": [
            "Downloading data from https://s3.amazonaws.com/img-datasets/mnist.npz\n",
            "11493376/11490434 [==============================] - 2s 0us/step\n"
          ],
          "name": "stdout"
        }
      ]
    },
    {
      "cell_type": "markdown",
      "metadata": {
        "id": "8TwJVyczB7zH",
        "colab_type": "text"
      },
      "source": [
        "###Análisis exploratorio"
      ]
    },
    {
      "cell_type": "code",
      "metadata": {
        "id": "oZEZvJK2B2UO",
        "colab_type": "code",
        "outputId": "809e6f03-0435-438f-adbc-dea157f100b4",
        "colab": {
          "base_uri": "https://localhost:8080/",
          "height": 283
        }
      },
      "source": [
        "#plot the first image in the dataset\n",
        "plt.imshow(X_train[0],cmap='gray')\n",
        "\n",
        "#check image shape\n",
        "X_train.shape    "
      ],
      "execution_count": 0,
      "outputs": [
        {
          "output_type": "execute_result",
          "data": {
            "text/plain": [
              "(60000, 28, 28)"
            ]
          },
          "metadata": {
            "tags": []
          },
          "execution_count": 38
        },
        {
          "output_type": "display_data",
          "data": {
            "image/png": "[encoded data removed]",
            "text/plain": [
              "<Figure size 432x288 with 1 Axes>"
            ]
          },
          "metadata": {
            "tags": [],
            "needs_background": "light"
          }
        }
      ]
    },
    {
      "cell_type": "markdown",
      "metadata": {
        "id": "i304A24sFJw6",
        "colab_type": "text"
      },
      "source": [
        "###Preprocesamiento de los datos"
      ]
    },
    {
      "cell_type": "code",
      "metadata": {
        "id": "Ia53-SArE7Qz",
        "colab_type": "code",
        "colab": {}
      },
      "source": [
        "#reshape data to fit model\n",
        "X_train = X_train.reshape(60000,28,28,1) # 60000= n de imagenes, 28x28= tamanio imagen, 1= dimensiones de color\n",
        "X_test = X_test.reshape(10000,28,28,1)"
      ],
      "execution_count": 0,
      "outputs": []
    },
    {
      "cell_type": "code",
      "metadata": {
        "id": "6xQ7yRrvE-BE",
        "colab_type": "code",
        "outputId": "301667ad-c390-480c-a8a7-6c967307da1b",
        "colab": {
          "base_uri": "https://localhost:8080/",
          "height": 35
        }
      },
      "source": [
        "#one-hot encode target column\n",
        "y_train = to_categorical(y_train)\n",
        "y_test = to_categorical(y_test)\n",
        "y_train[0]"
      ],
      "execution_count": 0,
      "outputs": [
        {
          "output_type": "execute_result",
          "data": {
            "text/plain": [
              "array([0., 0., 0., 0., 0., 1., 0., 0., 0., 0.], dtype=float32)"
            ]
          },
          "metadata": {
            "tags": []
          },
          "execution_count": 40
        }
      ]
    },
    {
      "cell_type": "markdown",
      "metadata": {
        "id": "RJzmeDKo7gv3",
        "colab_type": "text"
      },
      "source": [
        "###Calculo de pesos\n",
        " Input de 28x28 \\\\\n",
        " Primera capa 3x3, 9 pesos x neurona, 9 pesos x capa \\\\\n",
        " 9 x 64 = 576 pesos + 64 bias \\\\\n",
        " Segunda capa 3x3x64, 32 capas = 18.432 pesos + 32 bias \\\\\n",
        " Resultado de la segunda es un cubo de 24x24x32 = 18.432 x 10 = 184.320 + 10 bias \\\\\n",
        " 203.434 parametros entrenables"
      ]
    },
    {
      "cell_type": "markdown",
      "metadata": {
        "id": "hGrOQ9L1FEAR",
        "colab_type": "text"
      },
      "source": [
        "###Construccion del modelo"
      ]
    },
    {
      "cell_type": "code",
      "metadata": {
        "id": "B21DARczFC9R",
        "colab_type": "code",
        "colab": {}
      },
      "source": [
        "#create model\n",
        "model = Sequential()  \n",
        "#add model layers\n",
        "model.add(Conv2D(64, kernel_size=3, activation='relu', input_shape=(28,28,1)))\n",
        "model.add(Conv2D(32, kernel_size=3, activation='relu'))\n",
        "model.add(Flatten())\n",
        "model.add(Dense(10, activation='softmax'))"
      ],
      "execution_count": 0,
      "outputs": []
    },
    {
      "cell_type": "markdown",
      "metadata": {
        "id": "qEjP-Jp3FQtT",
        "colab_type": "text"
      },
      "source": [
        "###Compilando modelo"
      ]
    },
    {
      "cell_type": "code",
      "metadata": {
        "id": "hY0H4HVBFSZV",
        "colab_type": "code",
        "outputId": "88003375-9d86-441b-fcaa-c262589d01f2",
        "colab": {
          "base_uri": "https://localhost:8080/",
          "height": 323
        }
      },
      "source": [
        "#compile model using accuracy to measure model performance\n",
        "model.compile(optimizer='adam', loss='categorical_crossentropy', metrics=['accuracy'])\n",
        "print(model.summary())"
      ],
      "execution_count": 0,
      "outputs": [
        {
          "output_type": "stream",
          "text": [
            "Model: \"sequential_11\"\n",
            "_________________________________________________________________\n",
            "Layer (type)                 Output Shape              Param #   \n",
            "=================================================================\n",
            "conv2d_4 (Conv2D)            (None, 26, 26, 64)        640       \n",
            "_________________________________________________________________\n",
            "conv2d_5 (Conv2D)            (None, 24, 24, 32)        18464     \n",
            "_________________________________________________________________\n",
            "flatten_2 (Flatten)          (None, 18432)             0         \n",
            "_________________________________________________________________\n",
            "dense_52 (Dense)             (None, 10)                184330    \n",
            "=================================================================\n",
            "Total params: 203,434\n",
            "Trainable params: 203,434\n",
            "Non-trainable params: 0\n",
            "_________________________________________________________________\n",
            "None\n"
          ],
          "name": "stdout"
        }
      ]
    },
    {
      "cell_type": "markdown",
      "metadata": {
        "id": "onSnvwABFfYk",
        "colab_type": "text"
      },
      "source": [
        "###Entrenando el modelo"
      ]
    },
    {
      "cell_type": "code",
      "metadata": {
        "id": "8egnvmEnFeXl",
        "colab_type": "code",
        "outputId": "88f3606d-795f-47d3-d40d-3e9f2a161ab6",
        "colab": {
          "base_uri": "https://localhost:8080/",
          "height": 575
        }
      },
      "source": [
        "#train the model\n",
        "history = model.fit(X_train, y_train, validation_data=(X_test, y_test), epochs=15)"
      ],
      "execution_count": 0,
      "outputs": [
        {
          "output_type": "stream",
          "text": [
            "Train on 60000 samples, validate on 10000 samples\n",
            "Epoch 1/15\n",
            "60000/60000 [==============================] - 8s 133us/step - loss: 0.2657 - accuracy: 0.9501 - val_loss: 0.0859 - val_accuracy: 0.9736\n",
            "Epoch 2/15\n",
            "60000/60000 [==============================] - 8s 126us/step - loss: 0.0683 - accuracy: 0.9795 - val_loss: 0.0927 - val_accuracy: 0.9771\n",
            "Epoch 3/15\n",
            "60000/60000 [==============================] - 7s 125us/step - loss: 0.0466 - accuracy: 0.9854 - val_loss: 0.0927 - val_accuracy: 0.9775\n",
            "Epoch 4/15\n",
            "60000/60000 [==============================] - 7s 122us/step - loss: 0.0390 - accuracy: 0.9879 - val_loss: 0.1036 - val_accuracy: 0.9723\n",
            "Epoch 5/15\n",
            "60000/60000 [==============================] - 7s 123us/step - loss: 0.0304 - accuracy: 0.9908 - val_loss: 0.0992 - val_accuracy: 0.9775\n",
            "Epoch 6/15\n",
            "60000/60000 [==============================] - 8s 129us/step - loss: 0.0222 - accuracy: 0.9931 - val_loss: 0.1257 - val_accuracy: 0.9764\n",
            "Epoch 7/15\n",
            "60000/60000 [==============================] - 7s 122us/step - loss: 0.0221 - accuracy: 0.9933 - val_loss: 0.1150 - val_accuracy: 0.9818\n",
            "Epoch 8/15\n",
            "60000/60000 [==============================] - 7s 121us/step - loss: 0.0188 - accuracy: 0.9944 - val_loss: 0.1422 - val_accuracy: 0.9785\n",
            "Epoch 9/15\n",
            "60000/60000 [==============================] - 7s 120us/step - loss: 0.0188 - accuracy: 0.9949 - val_loss: 0.1820 - val_accuracy: 0.9766\n",
            "Epoch 10/15\n",
            "60000/60000 [==============================] - 7s 122us/step - loss: 0.0159 - accuracy: 0.9956 - val_loss: 0.1767 - val_accuracy: 0.9762\n",
            "Epoch 11/15\n",
            "60000/60000 [==============================] - 7s 121us/step - loss: 0.0157 - accuracy: 0.9959 - val_loss: 0.2103 - val_accuracy: 0.9774\n",
            "Epoch 12/15\n",
            "60000/60000 [==============================] - 7s 122us/step - loss: 0.0158 - accuracy: 0.9966 - val_loss: 0.2320 - val_accuracy: 0.9800\n",
            "Epoch 13/15\n",
            "60000/60000 [==============================] - 7s 121us/step - loss: 0.0191 - accuracy: 0.9963 - val_loss: 0.2552 - val_accuracy: 0.9779\n",
            "Epoch 14/15\n",
            "60000/60000 [==============================] - 7s 120us/step - loss: 0.0177 - accuracy: 0.9967 - val_loss: 0.1964 - val_accuracy: 0.9807\n",
            "Epoch 15/15\n",
            "60000/60000 [==============================] - 7s 119us/step - loss: 0.0109 - accuracy: 0.9976 - val_loss: 0.2540 - val_accuracy: 0.9801\n"
          ],
          "name": "stdout"
        }
      ]
    },
    {
      "cell_type": "code",
      "metadata": {
        "id": "AYE3PULjJamN",
        "colab_type": "code",
        "outputId": "24866dc7-b46a-4215-a617-ca94032e7c2e",
        "colab": {
          "base_uri": "https://localhost:8080/",
          "height": 545
        }
      },
      "source": [
        "accuracy = history.history['accuracy']\n",
        "val_accuracy = history.history['val_accuracy']\n",
        "loss = history.history['loss']\n",
        "val_loss = history.history['val_loss']\n",
        "\n",
        "epochs = range(len(accuracy))\n",
        "\n",
        "plt.plot(epochs, accuracy, 'bo', label='Training accuracy')\n",
        "plt.plot(epochs, val_accuracy, 'b', label='Validation accuracy')\n",
        "plt.title('Training and validation accuracy')\n",
        "plt.legend()\n",
        "\n",
        "plt.figure()\n",
        "\n",
        "plt.plot(epochs, loss, 'bo', label='Training loss')\n",
        "plt.plot(epochs, val_loss, 'b', label='Validation loss')\n",
        "plt.title('Training and validation loss')\n",
        "plt.legend()\n",
        "\n",
        "plt.show()"
      ],
      "execution_count": 0,
      "outputs": [
        {
          "output_type": "display_data",
          "data": {
            "image/png": "[encoded data removed]",
            "text/plain": [
              "<Figure size 432x288 with 1 Axes>"
            ]
          },
          "metadata": {
            "tags": [],
            "needs_background": "light"
          }
        },
        {
          "output_type": "display_data",
          "data": {
            "image/png": "[encoded data removed]",
            "text/plain": [
              "<Figure size 432x288 with 1 Axes>"
            ]
          },
          "metadata": {
            "tags": [],
            "needs_background": "light"
          }
        }
      ]
    },
    {
      "cell_type": "markdown",
      "metadata": {
        "id": "8mkYUvt_dHgI",
        "colab_type": "text"
      },
      "source": [
        "## Ahora usando redes feed-forward"
      ]
    },
    {
      "cell_type": "code",
      "metadata": {
        "id": "TkO5d1qwc9_R",
        "colab_type": "code",
        "colab": {}
      },
      "source": [
        "(train_images, train_labels), (test_images, test_labels) = mnist.load_data()\n",
        "# Change from matrix to array of dimension 28x28 to array of dimention 784\n",
        "dimData = np.prod(train_images.shape[1:])\n",
        "train_data = train_images.reshape(train_images.shape[0], dimData)\n",
        "test_data = test_images.reshape(test_images.shape[0], dimData)"
      ],
      "execution_count": 0,
      "outputs": []
    },
    {
      "cell_type": "code",
      "metadata": {
        "id": "5CC07fKoc-Fy",
        "colab_type": "code",
        "colab": {}
      },
      "source": [
        "# Change to float datatype\n",
        "train_data = train_data.astype('float32')\n",
        "test_data = test_data.astype('float32')\n",
        "\n",
        "# Scale the data to lie between 0 to 1\n",
        "train_data /= 255\n",
        "test_data /= 255"
      ],
      "execution_count": 0,
      "outputs": []
    },
    {
      "cell_type": "code",
      "metadata": {
        "id": "9CWhKHI3c-Cw",
        "colab_type": "code",
        "outputId": "6fe43a7d-701f-40b3-c658-6ee4575fd006",
        "colab": {
          "base_uri": "https://localhost:8080/",
          "height": 53
        }
      },
      "source": [
        "# Change the labels from integer to categorical data\n",
        "train_labels_one_hot = to_categorical(train_labels)\n",
        "test_labels_one_hot = to_categorical(test_labels)\n",
        "\n",
        "# Display the change for category label using one-hot encoding\n",
        "print('Original label 0 : ', train_labels[0])\n",
        "print('After conversion to categorical ( one-hot ) : ', train_labels_one_hot[0])"
      ],
      "execution_count": 0,
      "outputs": [
        {
          "output_type": "stream",
          "text": [
            "Original label 0 :  5\n",
            "After conversion to categorical ( one-hot ) :  [0. 0. 0. 0. 0. 1. 0. 0. 0. 0.]\n"
          ],
          "name": "stdout"
        }
      ]
    },
    {
      "cell_type": "code",
      "metadata": {
        "id": "3ZMvDGXHde7t",
        "colab_type": "code",
        "outputId": "e4d9b5a7-1d34-4cc1-b303-86f0fd26f4ce",
        "colab": {
          "base_uri": "https://localhost:8080/",
          "height": 287
        }
      },
      "source": [
        "model2 = Sequential()\n",
        "model2.add(Dense(200, activation='relu', input_shape=(dimData,)))\n",
        "model2.add(Dense(200, activation='relu'))\n",
        "model2.add(Dense(10, activation='softmax'))\n",
        "print(model2.summary())"
      ],
      "execution_count": 0,
      "outputs": [
        {
          "output_type": "stream",
          "text": [
            "Model: \"sequential_12\"\n",
            "_________________________________________________________________\n",
            "Layer (type)                 Output Shape              Param #   \n",
            "=================================================================\n",
            "dense_53 (Dense)             (None, 200)               157000    \n",
            "_________________________________________________________________\n",
            "dense_54 (Dense)             (None, 200)               40200     \n",
            "_________________________________________________________________\n",
            "dense_55 (Dense)             (None, 10)                2010      \n",
            "=================================================================\n",
            "Total params: 199,210\n",
            "Trainable params: 199,210\n",
            "Non-trainable params: 0\n",
            "_________________________________________________________________\n",
            "None\n"
          ],
          "name": "stdout"
        }
      ]
    },
    {
      "cell_type": "code",
      "metadata": {
        "id": "iwoBb-KJde_P",
        "colab_type": "code",
        "colab": {}
      },
      "source": [
        "model2.compile(optimizer='adam', loss='categorical_crossentropy', metrics=['accuracy'])"
      ],
      "execution_count": 0,
      "outputs": []
    },
    {
      "cell_type": "code",
      "metadata": {
        "id": "eYwaLyaIde5h",
        "colab_type": "code",
        "outputId": "c9208766-cc4a-49a5-d09d-95bd526c6370",
        "colab": {
          "base_uri": "https://localhost:8080/",
          "height": 575
        }
      },
      "source": [
        "history = model2.fit(train_data, train_labels_one_hot, batch_size=256, epochs=15, verbose=1, validation_data=(test_data, test_labels_one_hot))"
      ],
      "execution_count": 0,
      "outputs": [
        {
          "output_type": "stream",
          "text": [
            "Train on 60000 samples, validate on 10000 samples\n",
            "Epoch 1/15\n",
            "60000/60000 [==============================] - 1s 15us/step - loss: 0.3437 - accuracy: 0.9040 - val_loss: 0.1617 - val_accuracy: 0.9498\n",
            "Epoch 2/15\n",
            "60000/60000 [==============================] - 1s 14us/step - loss: 0.1318 - accuracy: 0.9612 - val_loss: 0.1043 - val_accuracy: 0.9679\n",
            "Epoch 3/15\n",
            "60000/60000 [==============================] - 1s 14us/step - loss: 0.0880 - accuracy: 0.9739 - val_loss: 0.0895 - val_accuracy: 0.9734\n",
            "Epoch 4/15\n",
            "60000/60000 [==============================] - 1s 14us/step - loss: 0.0645 - accuracy: 0.9803 - val_loss: 0.0786 - val_accuracy: 0.9757\n",
            "Epoch 5/15\n",
            "60000/60000 [==============================] - 1s 14us/step - loss: 0.0499 - accuracy: 0.9851 - val_loss: 0.0790 - val_accuracy: 0.9758\n",
            "Epoch 6/15\n",
            "60000/60000 [==============================] - 1s 14us/step - loss: 0.0373 - accuracy: 0.9887 - val_loss: 0.0710 - val_accuracy: 0.9771\n",
            "Epoch 7/15\n",
            "60000/60000 [==============================] - 1s 14us/step - loss: 0.0296 - accuracy: 0.9911 - val_loss: 0.0726 - val_accuracy: 0.9769\n",
            "Epoch 8/15\n",
            "60000/60000 [==============================] - 1s 14us/step - loss: 0.0238 - accuracy: 0.9927 - val_loss: 0.0778 - val_accuracy: 0.9776\n",
            "Epoch 9/15\n",
            "60000/60000 [==============================] - 1s 14us/step - loss: 0.0198 - accuracy: 0.9942 - val_loss: 0.0680 - val_accuracy: 0.9797\n",
            "Epoch 10/15\n",
            "60000/60000 [==============================] - 1s 14us/step - loss: 0.0137 - accuracy: 0.9961 - val_loss: 0.0796 - val_accuracy: 0.9765\n",
            "Epoch 11/15\n",
            "60000/60000 [==============================] - 1s 14us/step - loss: 0.0121 - accuracy: 0.9968 - val_loss: 0.0686 - val_accuracy: 0.9811\n",
            "Epoch 12/15\n",
            "60000/60000 [==============================] - 1s 14us/step - loss: 0.0095 - accuracy: 0.9974 - val_loss: 0.0857 - val_accuracy: 0.9776\n",
            "Epoch 13/15\n",
            "60000/60000 [==============================] - 1s 14us/step - loss: 0.0103 - accuracy: 0.9970 - val_loss: 0.0790 - val_accuracy: 0.9816\n",
            "Epoch 14/15\n",
            "60000/60000 [==============================] - 1s 14us/step - loss: 0.0069 - accuracy: 0.9981 - val_loss: 0.0789 - val_accuracy: 0.9816\n",
            "Epoch 15/15\n",
            "60000/60000 [==============================] - 1s 14us/step - loss: 0.0075 - accuracy: 0.9979 - val_loss: 0.0893 - val_accuracy: 0.9791\n"
          ],
          "name": "stdout"
        }
      ]
    },
    {
      "cell_type": "code",
      "metadata": {
        "id": "xrzKx37Dd4Ne",
        "colab_type": "code",
        "outputId": "fd48ad31-dfc6-4b5a-b0a5-3107f41b7a9e",
        "colab": {
          "base_uri": "https://localhost:8080/",
          "height": 545
        }
      },
      "source": [
        "accuracy = history.history['accuracy']\n",
        "val_accuracy = history.history['val_accuracy']\n",
        "loss = history.history['loss']\n",
        "val_loss = history.history['val_loss']\n",
        "\n",
        "epochs = range(len(accuracy))\n",
        "\n",
        "plt.plot(epochs, accuracy, 'bo', label='Training accuracy')\n",
        "plt.plot(epochs, val_accuracy, 'b', label='Validation accuracy')\n",
        "plt.title('Training and validation accuracy')\n",
        "plt.legend()\n",
        "\n",
        "plt.figure()\n",
        "\n",
        "plt.plot(epochs, loss, 'bo', label='Training loss')\n",
        "plt.plot(epochs, val_loss, 'b', label='Validation loss')\n",
        "plt.title('Training and validation loss')\n",
        "plt.legend()\n",
        "\n",
        "plt.show()"
      ],
      "execution_count": 0,
      "outputs": [
        {
          "output_type": "display_data",
          "data": {
            "image/png": "[encoded data removed]",
            "text/plain": [
              "<Figure size 432x288 with 1 Axes>"
            ]
          },
          "metadata": {
            "tags": [],
            "needs_background": "light"
          }
        },
        {
          "output_type": "display_data",
          "data": {
            "image/png": "[encoded data removed]",
            "text/plain": [
              "<Figure size 432x288 with 1 Axes>"
            ]
          },
          "metadata": {
            "tags": [],
            "needs_background": "light"
          }
        }
      ]
    },
    {
      "cell_type": "markdown",
      "metadata": {
        "id": "h30tYhw8QHcm",
        "colab_type": "text"
      },
      "source": [
        "#Fashion Mnist"
      ]
    },
    {
      "cell_type": "code",
      "metadata": {
        "id": "ulnTKK-sQKbu",
        "colab_type": "code",
        "outputId": "cd545b92-e385-47ef-9785-d9fbdca26ee8",
        "colab": {
          "base_uri": "https://localhost:8080/",
          "height": 161
        }
      },
      "source": [
        "from keras.datasets import fashion_mnist\n",
        "#download mnist data and split into train and test sets\n",
        "(X_train, y_train), (X_test, y_test) = fashion_mnist.load_data()"
      ],
      "execution_count": 0,
      "outputs": [
        {
          "output_type": "stream",
          "text": [
            "Downloading data from http://fashion-mnist.s3-website.eu-central-1.amazonaws.com/train-labels-idx1-ubyte.gz\n",
            "32768/29515 [=================================] - 0s 8us/step\n",
            "Downloading data from http://fashion-mnist.s3-website.eu-central-1.amazonaws.com/train-images-idx3-ubyte.gz\n",
            "26427392/26421880 [==============================] - 4s 0us/step\n",
            "Downloading data from http://fashion-mnist.s3-website.eu-central-1.amazonaws.com/t10k-labels-idx1-ubyte.gz\n",
            "8192/5148 [===============================================] - 0s 0us/step\n",
            "Downloading data from http://fashion-mnist.s3-website.eu-central-1.amazonaws.com/t10k-images-idx3-ubyte.gz\n",
            "4423680/4422102 [==============================] - 2s 0us/step\n"
          ],
          "name": "stdout"
        }
      ]
    },
    {
      "cell_type": "markdown",
      "metadata": {
        "id": "IsTTW-JBQTAT",
        "colab_type": "text"
      },
      "source": [
        "###Análisis exploratorio de datos"
      ]
    },
    {
      "cell_type": "code",
      "metadata": {
        "id": "AAeMAMRrQWq0",
        "colab_type": "code",
        "outputId": "5c4373b4-5847-4ad2-f334-85f6150eba28",
        "colab": {
          "base_uri": "https://localhost:8080/",
          "height": 283
        }
      },
      "source": [
        "#plot the first image in the dataset\n",
        "plt.imshow(X_train[0])\n",
        "\n",
        "#check image shape\n",
        "X_train[0].shape    "
      ],
      "execution_count": 0,
      "outputs": [
        {
          "output_type": "execute_result",
          "data": {
            "text/plain": [
              "(28, 28)"
            ]
          },
          "metadata": {
            "tags": []
          },
          "execution_count": 53
        },
        {
          "output_type": "display_data",
          "data": {
            "image/png": "[encoded data removed]",
            "text/plain": [
              "<Figure size 432x288 with 1 Axes>"
            ]
          },
          "metadata": {
            "tags": [],
            "needs_background": "light"
          }
        }
      ]
    },
    {
      "cell_type": "markdown",
      "metadata": {
        "id": "gP6HB_wzQ4WF",
        "colab_type": "text"
      },
      "source": [
        "###Procesamiento de datos"
      ]
    },
    {
      "cell_type": "code",
      "metadata": {
        "id": "IRr4fGcpQ6O3",
        "colab_type": "code",
        "colab": {}
      },
      "source": [
        "#reshape data to fit model\n",
        "X_train = X_train.reshape(60000,28,28,1)\n",
        "X_test = X_test.reshape(10000,28,28,1)"
      ],
      "execution_count": 0,
      "outputs": []
    },
    {
      "cell_type": "code",
      "metadata": {
        "id": "5ANAGbqLQ873",
        "colab_type": "code",
        "outputId": "37ab67ac-8ba1-418e-e1e9-e80833cbddab",
        "colab": {
          "base_uri": "https://localhost:8080/",
          "height": 35
        }
      },
      "source": [
        "#one-hot encode target column\n",
        "y_train = to_categorical(y_train)\n",
        "y_test = to_categorical(y_test)\n",
        "y_train[0]"
      ],
      "execution_count": 0,
      "outputs": [
        {
          "output_type": "execute_result",
          "data": {
            "text/plain": [
              "array([0., 0., 0., 0., 0., 0., 0., 0., 0., 1.], dtype=float32)"
            ]
          },
          "metadata": {
            "tags": []
          },
          "execution_count": 55
        }
      ]
    },
    {
      "cell_type": "markdown",
      "metadata": {
        "id": "QWFZeGyBQ_j4",
        "colab_type": "text"
      },
      "source": [
        "###Construccion del modelo"
      ]
    },
    {
      "cell_type": "code",
      "metadata": {
        "id": "xV3jEGzoRBeh",
        "colab_type": "code",
        "colab": {}
      },
      "source": [
        "#create model\n",
        "model = Sequential()\n",
        "#add model layers\n",
        "model.add(Conv2D(6, kernel_size=3, activation='relu', input_shape=(28,28,1)))\n",
        "model.add(MaxPool2D(2))\n",
        "model.add(Conv2D(12, kernel_size=3, activation='relu'))\n",
        "model.add(MaxPool2D(2))\n",
        "model.add(Conv2D(12, kernel_size=3, activation='relu'))\n",
        "model.add(MaxPool2D(2))\n",
        "model.add(Flatten())\n",
        "model.add(Dense(10, activation='softmax'))"
      ],
      "execution_count": 0,
      "outputs": []
    },
    {
      "cell_type": "markdown",
      "metadata": {
        "id": "EbWWWu-dRDmi",
        "colab_type": "text"
      },
      "source": [
        "###Compilando modelo"
      ]
    },
    {
      "cell_type": "code",
      "metadata": {
        "id": "UmZH9QzURHCT",
        "colab_type": "code",
        "outputId": "caf89549-9fab-47a4-e8b8-802c4ba56264",
        "colab": {
          "base_uri": "https://localhost:8080/",
          "height": 467
        }
      },
      "source": [
        "#compile model using accuracy to measure model performance\n",
        "model.compile(optimizer='adam', loss='categorical_crossentropy', metrics=['accuracy'])\n",
        "print(model.summary())"
      ],
      "execution_count": 0,
      "outputs": [
        {
          "output_type": "stream",
          "text": [
            "Model: \"sequential_13\"\n",
            "_________________________________________________________________\n",
            "Layer (type)                 Output Shape              Param #   \n",
            "=================================================================\n",
            "conv2d_6 (Conv2D)            (None, 26, 26, 6)         60        \n",
            "_________________________________________________________________\n",
            "max_pooling2d_4 (MaxPooling2 (None, 13, 13, 6)         0         \n",
            "_________________________________________________________________\n",
            "conv2d_7 (Conv2D)            (None, 11, 11, 12)        660       \n",
            "_________________________________________________________________\n",
            "max_pooling2d_5 (MaxPooling2 (None, 5, 5, 12)          0         \n",
            "_________________________________________________________________\n",
            "conv2d_8 (Conv2D)            (None, 3, 3, 12)          1308      \n",
            "_________________________________________________________________\n",
            "max_pooling2d_6 (MaxPooling2 (None, 1, 1, 12)          0         \n",
            "_________________________________________________________________\n",
            "flatten_3 (Flatten)          (None, 12)                0         \n",
            "_________________________________________________________________\n",
            "dense_56 (Dense)             (None, 10)                130       \n",
            "=================================================================\n",
            "Total params: 2,158\n",
            "Trainable params: 2,158\n",
            "Non-trainable params: 0\n",
            "_________________________________________________________________\n",
            "None\n"
          ],
          "name": "stdout"
        }
      ]
    },
    {
      "cell_type": "markdown",
      "metadata": {
        "id": "mjDdOjUARKOl",
        "colab_type": "text"
      },
      "source": [
        "###Entrenando modelo"
      ]
    },
    {
      "cell_type": "code",
      "metadata": {
        "id": "w_DearuVRMb-",
        "colab_type": "code",
        "outputId": "b3e61e8a-2ac1-4ae9-a683-bd21cd30709c",
        "colab": {
          "base_uri": "https://localhost:8080/",
          "height": 575
        }
      },
      "source": [
        "#train the model\n",
        "history = model.fit(X_train, y_train, validation_data=(X_test, y_test), epochs=15)"
      ],
      "execution_count": 0,
      "outputs": [
        {
          "output_type": "stream",
          "text": [
            "Train on 60000 samples, validate on 10000 samples\n",
            "Epoch 1/15\n",
            "60000/60000 [==============================] - 7s 123us/step - loss: 1.3092 - accuracy: 0.6156 - val_loss: 0.7656 - val_accuracy: 0.7236\n",
            "Epoch 2/15\n",
            "60000/60000 [==============================] - 7s 120us/step - loss: 0.7075 - accuracy: 0.7440 - val_loss: 0.6787 - val_accuracy: 0.7480\n",
            "Epoch 3/15\n",
            "60000/60000 [==============================] - 7s 119us/step - loss: 0.6346 - accuracy: 0.7699 - val_loss: 0.6489 - val_accuracy: 0.7629\n",
            "Epoch 4/15\n",
            "60000/60000 [==============================] - 7s 120us/step - loss: 0.5800 - accuracy: 0.7898 - val_loss: 0.5749 - val_accuracy: 0.7919\n",
            "Epoch 5/15\n",
            "60000/60000 [==============================] - 7s 121us/step - loss: 0.5418 - accuracy: 0.8032 - val_loss: 0.5696 - val_accuracy: 0.7994\n",
            "Epoch 6/15\n",
            "60000/60000 [==============================] - 7s 121us/step - loss: 0.5164 - accuracy: 0.8136 - val_loss: 0.5607 - val_accuracy: 0.7944\n",
            "Epoch 7/15\n",
            "60000/60000 [==============================] - 7s 120us/step - loss: 0.4993 - accuracy: 0.8177 - val_loss: 0.5361 - val_accuracy: 0.8107\n",
            "Epoch 8/15\n",
            "60000/60000 [==============================] - 7s 120us/step - loss: 0.4823 - accuracy: 0.8230 - val_loss: 0.5582 - val_accuracy: 0.7982\n",
            "Epoch 9/15\n",
            "60000/60000 [==============================] - 7s 120us/step - loss: 0.4721 - accuracy: 0.8269 - val_loss: 0.5311 - val_accuracy: 0.8057\n",
            "Epoch 10/15\n",
            "60000/60000 [==============================] - 7s 119us/step - loss: 0.4630 - accuracy: 0.8285 - val_loss: 0.5091 - val_accuracy: 0.8212\n",
            "Epoch 11/15\n",
            "60000/60000 [==============================] - 7s 120us/step - loss: 0.4511 - accuracy: 0.8341 - val_loss: 0.5094 - val_accuracy: 0.8161\n",
            "Epoch 12/15\n",
            "60000/60000 [==============================] - 7s 120us/step - loss: 0.4443 - accuracy: 0.8365 - val_loss: 0.4999 - val_accuracy: 0.8225\n",
            "Epoch 13/15\n",
            "60000/60000 [==============================] - 7s 120us/step - loss: 0.4366 - accuracy: 0.8385 - val_loss: 0.4930 - val_accuracy: 0.8229\n",
            "Epoch 14/15\n",
            "60000/60000 [==============================] - 7s 120us/step - loss: 0.4324 - accuracy: 0.8400 - val_loss: 0.4755 - val_accuracy: 0.8319\n",
            "Epoch 15/15\n",
            "60000/60000 [==============================] - 7s 119us/step - loss: 0.4265 - accuracy: 0.8415 - val_loss: 0.4792 - val_accuracy: 0.8254\n"
          ],
          "name": "stdout"
        }
      ]
    },
    {
      "cell_type": "code",
      "metadata": {
        "id": "mJnnh6K_fp93",
        "colab_type": "code",
        "outputId": "4b04cfed-39ed-4805-94aa-d1151047234a",
        "colab": {
          "base_uri": "https://localhost:8080/",
          "height": 545
        }
      },
      "source": [
        "accuracy = history.history['accuracy']\n",
        "val_accuracy = history.history['val_accuracy']\n",
        "loss = history.history['loss']\n",
        "val_loss = history.history['val_loss']\n",
        "\n",
        "epochs = range(len(accuracy))\n",
        "\n",
        "plt.plot(epochs, accuracy, 'bo', label='Training accuracy')\n",
        "plt.plot(epochs, val_accuracy, 'b', label='Validation accuracy')\n",
        "plt.title('Training and validation accuracy')\n",
        "plt.legend()\n",
        "\n",
        "plt.figure()\n",
        "\n",
        "plt.plot(epochs, loss, 'bo', label='Training loss')\n",
        "plt.plot(epochs, val_loss, 'b', label='Validation loss')\n",
        "plt.title('Training and validation loss')\n",
        "plt.legend()\n",
        "\n",
        "plt.show()"
      ],
      "execution_count": 0,
      "outputs": [
        {
          "output_type": "display_data",
          "data": {
            "image/png": "[encoded data removed]",
            "text/plain": [
              "<Figure size 432x288 with 1 Axes>"
            ]
          },
          "metadata": {
            "tags": [],
            "needs_background": "light"
          }
        },
        {
          "output_type": "display_data",
          "data": {
            "image/png": "[encoded data removed]",
            "text/plain": [
              "<Figure size 432x288 with 1 Axes>"
            ]
          },
          "metadata": {
            "tags": [],
            "needs_background": "light"
          }
        }
      ]
    },
    {
      "cell_type": "markdown",
      "metadata": {
        "id": "KkIU795HGRWr",
        "colab_type": "text"
      },
      "source": [
        "### Ahora el dataset Fasion MNIST"
      ]
    },
    {
      "cell_type": "code",
      "metadata": {
        "id": "PeLkn-F-GVby",
        "colab_type": "code",
        "colab": {}
      },
      "source": [
        "(train_images, train_labels), (test_images, test_labels) = fashion_mnist.load_data()"
      ],
      "execution_count": 0,
      "outputs": []
    },
    {
      "cell_type": "code",
      "metadata": {
        "id": "ZwRmd-8lGnZQ",
        "colab_type": "code",
        "colab": {}
      },
      "source": [
        "# Change from matrix to array of dimension 28x28 to array of dimention 784\n",
        "dimData = np.prod(train_images.shape[1:])\n",
        "train_data = train_images.reshape(train_images.shape[0], dimData)\n",
        "test_data = test_images.reshape(test_images.shape[0], dimData)"
      ],
      "execution_count": 0,
      "outputs": []
    },
    {
      "cell_type": "code",
      "metadata": {
        "id": "PcME6D5cG093",
        "colab_type": "code",
        "colab": {}
      },
      "source": [
        "# Change to float datatype\n",
        "train_data = train_data.astype('float32')\n",
        "test_data = test_data.astype('float32')\n",
        "\n",
        "# Scale the data to lie between 0 to 1\n",
        "train_data /= 255\n",
        "test_data /= 255"
      ],
      "execution_count": 0,
      "outputs": []
    },
    {
      "cell_type": "code",
      "metadata": {
        "id": "8n0YgFPoG-Mm",
        "colab_type": "code",
        "outputId": "d837e446-79e2-4d39-cb2c-3923242c6c3a",
        "colab": {
          "base_uri": "https://localhost:8080/",
          "height": 53
        }
      },
      "source": [
        "# Change the labels from integer to categorical data\n",
        "train_labels_one_hot = to_categorical(train_labels)\n",
        "test_labels_one_hot = to_categorical(test_labels)\n",
        "\n",
        "# Display the change for category label using one-hot encoding\n",
        "print('Original label 0 : ', train_labels[0])\n",
        "print('After conversion to categorical ( one-hot ) : ', train_labels_one_hot[0])"
      ],
      "execution_count": 0,
      "outputs": [
        {
          "output_type": "stream",
          "text": [
            "Original label 0 :  9\n",
            "After conversion to categorical ( one-hot ) :  [0. 0. 0. 0. 0. 0. 0. 0. 0. 1.]\n"
          ],
          "name": "stdout"
        }
      ]
    },
    {
      "cell_type": "code",
      "metadata": {
        "id": "7ISojtAMj9s3",
        "colab_type": "code",
        "outputId": "a87bd102-954c-4fac-f57d-c0a8404fbbb5",
        "colab": {
          "base_uri": "https://localhost:8080/",
          "height": 35
        }
      },
      "source": [
        "model3 = Sequential()\n",
        "model3.add(Dense(3, activation='relu', input_shape=(dimData,)))\n",
        "model3.add(Dense(10, activation='softmax'))\n",
        "\n",
        "model3.compile(optimizer='adam', loss='categorical_crossentropy', metrics=['accuracy'])\n",
        "model3.count_params()"
      ],
      "execution_count": 0,
      "outputs": [
        {
          "output_type": "execute_result",
          "data": {
            "text/plain": [
              "2395"
            ]
          },
          "metadata": {
            "tags": []
          },
          "execution_count": 64
        }
      ]
    },
    {
      "cell_type": "code",
      "metadata": {
        "id": "BG39DV_BHGjV",
        "colab_type": "code",
        "outputId": "47e9b7e4-acb9-43a5-bf4b-9ad20e0e0ec7",
        "colab": {
          "base_uri": "https://localhost:8080/",
          "height": 611
        }
      },
      "source": [
        "history = model3.fit(train_data, train_labels_one_hot, batch_size=256, epochs=15, verbose=1,\n",
        "validation_data=(test_data, test_labels_one_hot))\n",
        "\n",
        "[test_loss, test_acc] = model3.evaluate(test_data, test_labels_one_hot)\n",
        "print(\"Evaluation result on Test Data : Loss = {}, accuracy = {}\".format(test_loss, test_acc))"
      ],
      "execution_count": 0,
      "outputs": [
        {
          "output_type": "stream",
          "text": [
            "Train on 60000 samples, validate on 10000 samples\n",
            "Epoch 1/15\n",
            "60000/60000 [==============================] - 1s 13us/step - loss: 1.8670 - accuracy: 0.3198 - val_loss: 1.6026 - val_accuracy: 0.4396\n",
            "Epoch 2/15\n",
            "60000/60000 [==============================] - 1s 13us/step - loss: 1.4496 - accuracy: 0.4559 - val_loss: 1.3478 - val_accuracy: 0.4554\n",
            "Epoch 3/15\n",
            "60000/60000 [==============================] - 1s 13us/step - loss: 1.1832 - accuracy: 0.5667 - val_loss: 1.0588 - val_accuracy: 0.6363\n",
            "Epoch 4/15\n",
            "60000/60000 [==============================] - 1s 13us/step - loss: 0.9965 - accuracy: 0.6520 - val_loss: 0.9632 - val_accuracy: 0.6605\n",
            "Epoch 5/15\n",
            "60000/60000 [==============================] - 1s 13us/step - loss: 0.9187 - accuracy: 0.6800 - val_loss: 0.8943 - val_accuracy: 0.6997\n",
            "Epoch 6/15\n",
            "60000/60000 [==============================] - 1s 13us/step - loss: 0.8462 - accuracy: 0.7240 - val_loss: 0.8233 - val_accuracy: 0.7386\n",
            "Epoch 7/15\n",
            "60000/60000 [==============================] - 1s 13us/step - loss: 0.7906 - accuracy: 0.7457 - val_loss: 0.7916 - val_accuracy: 0.7404\n",
            "Epoch 8/15\n",
            "60000/60000 [==============================] - 1s 13us/step - loss: 0.7585 - accuracy: 0.7538 - val_loss: 0.7624 - val_accuracy: 0.7546\n",
            "Epoch 9/15\n",
            "60000/60000 [==============================] - 1s 13us/step - loss: 0.7353 - accuracy: 0.7610 - val_loss: 0.7470 - val_accuracy: 0.7549\n",
            "Epoch 10/15\n",
            "60000/60000 [==============================] - 1s 13us/step - loss: 0.7177 - accuracy: 0.7653 - val_loss: 0.7288 - val_accuracy: 0.7617\n",
            "Epoch 11/15\n",
            "60000/60000 [==============================] - 1s 12us/step - loss: 0.7025 - accuracy: 0.7696 - val_loss: 0.7170 - val_accuracy: 0.7645\n",
            "Epoch 12/15\n",
            "60000/60000 [==============================] - 1s 13us/step - loss: 0.6896 - accuracy: 0.7728 - val_loss: 0.7102 - val_accuracy: 0.7661\n",
            "Epoch 13/15\n",
            "60000/60000 [==============================] - 1s 13us/step - loss: 0.6797 - accuracy: 0.7753 - val_loss: 0.7042 - val_accuracy: 0.7687\n",
            "Epoch 14/15\n",
            "60000/60000 [==============================] - 1s 13us/step - loss: 0.6706 - accuracy: 0.7790 - val_loss: 0.6940 - val_accuracy: 0.7737\n",
            "Epoch 15/15\n",
            "60000/60000 [==============================] - 1s 13us/step - loss: 0.6620 - accuracy: 0.7805 - val_loss: 0.6912 - val_accuracy: 0.7739\n",
            "10000/10000 [==============================] - 0s 46us/step\n",
            "Evaluation result on Test Data : Loss = 0.6911831696510315, accuracy = 0.7738999724388123\n"
          ],
          "name": "stdout"
        }
      ]
    },
    {
      "cell_type": "code",
      "metadata": {
        "id": "wMIMT6wLf78P",
        "colab_type": "code",
        "outputId": "2ed80a8b-d52a-4c37-e3c0-8289c90698dd",
        "colab": {
          "base_uri": "https://localhost:8080/",
          "height": 545
        }
      },
      "source": [
        "accuracy = history.history['accuracy']\n",
        "val_accuracy = history.history['val_accuracy']\n",
        "loss = history.history['loss']\n",
        "val_loss = history.history['val_loss']\n",
        "\n",
        "epochs = range(len(accuracy))\n",
        "\n",
        "plt.plot(epochs, accuracy, 'bo', label='Training accuracy')\n",
        "plt.plot(epochs, val_accuracy, 'b', label='Validation accuracy')\n",
        "plt.title('Training and validation accuracy')\n",
        "plt.legend()\n",
        "\n",
        "plt.figure()\n",
        "\n",
        "plt.plot(epochs, loss, 'bo', label='Training loss')\n",
        "plt.plot(epochs, val_loss, 'b', label='Validation loss')\n",
        "plt.title('Training and validation loss')\n",
        "plt.legend()\n",
        "\n",
        "plt.show()"
      ],
      "execution_count": 0,
      "outputs": [
        {
          "output_type": "display_data",
          "data": {
            "image/png": "[encoded data removed]",
            "text/plain": [
              "<Figure size 432x288 with 1 Axes>"
            ]
          },
          "metadata": {
            "tags": [],
            "needs_background": "light"
          }
        },
        {
          "output_type": "display_data",
          "data": {
            "image/png": "[encoded data removed]",
            "text/plain": [
              "<Figure size 432x288 with 1 Axes>"
            ]
          },
          "metadata": {
            "tags": [],
            "needs_background": "light"
          }
        }
      ]
    },
    {
      "cell_type": "markdown",
      "metadata": {
        "id": "hdK75kVjcOkw",
        "colab_type": "text"
      },
      "source": [
        "## Resultados y conclusiones\n",
        "\n",
        "Se utilizaron la misma cantidad de parametros entrenables en una red convolucional y en una red feedfordward. Para la tarea de clasificar imagenes pequeñas en blanco y negro. \\\\\n",
        "Los resultados son los siguientes: \\\\\n",
        "Dataset MNIST numeros: \\\\\n",
        "\n",
        "\n",
        "*   Accuracy con red convolucional 2d: 0.9770\n",
        "*   Accuracy con red FF: 0.9782\n",
        "\n",
        "\n",
        "Dataset MNIST Fashion: \\\\\n",
        "\n",
        "*   Accuracy con red convolucional 2d: 0.8729\n",
        "*   Accuracy con red FF: 0.8734\n",
        "\n",
        "Se observa que ambas arquitecturas tienen un rendimiento similar en estos dataset. \\\\\n",
        "\n",
        "Se cree que esto es resultado de que el dataset es muy simple, solo tiene colores en blanco y negro, las imagenes son pequeñas y mayormente centradas. \\\\\n",
        "\n",
        "Además se tienen demasiados parametros entrenables, por lo que la complejidad de la red es bastante alta y el problema se hace trivial finalmente para estas redes super poderosas. \\\\\n",
        "\n",
        "Se cree que usar una red Conv para este dataset es una haerramienta demasiado soficsticada. \\\\\n",
        "\n",
        "Probaremos con otro dataset, con resolución de imagen mayor."
      ]
    },
    {
      "cell_type": "markdown",
      "metadata": {
        "id": "nEEWiYN5d-yK",
        "colab_type": "text"
      },
      "source": [
        "## Nuevo Dataset: CIFAR10: 10.000 imagenes de 32x32 a color en 10 categorias"
      ]
    },
    {
      "cell_type": "code",
      "metadata": {
        "id": "AGOE-Ay5et4W",
        "colab_type": "code",
        "colab": {}
      },
      "source": [
        "from keras.datasets import cifar10\n",
        "(X_train, y_train), (X_test, y_test) = cifar10.load_data()"
      ],
      "execution_count": 0,
      "outputs": []
    },
    {
      "cell_type": "code",
      "metadata": {
        "id": "lTL7Ic8LfOr4",
        "colab_type": "code",
        "outputId": "bddff25c-93f9-481f-d06d-67c31c04fd8b",
        "colab": {
          "base_uri": "https://localhost:8080/",
          "height": 284
        }
      },
      "source": [
        "#plot the first image in the dataset\n",
        "plt.imshow(X_train[44])\n",
        "\n",
        "#check image shape\n",
        "X_train.shape\n",
        "X_test.shape  "
      ],
      "execution_count": 0,
      "outputs": [
        {
          "output_type": "execute_result",
          "data": {
            "text/plain": [
              "(10000, 32, 32, 3)"
            ]
          },
          "metadata": {
            "tags": []
          },
          "execution_count": 68
        },
        {
          "output_type": "display_data",
          "data": {
            "image/png": "[encoded data removed]",
            "text/plain": [
              "<Figure size 432x288 with 1 Axes>"
            ]
          },
          "metadata": {
            "tags": [],
            "needs_background": "light"
          }
        }
      ]
    },
    {
      "cell_type": "code",
      "metadata": {
        "id": "dRcvaL92foBk",
        "colab_type": "code",
        "colab": {}
      },
      "source": [
        "#reshape data to fit model\n",
        "X_train = X_train.reshape(50000,32,32,3)\n",
        "X_test = X_test.reshape(10000,32,32,3)"
      ],
      "execution_count": 0,
      "outputs": []
    },
    {
      "cell_type": "code",
      "metadata": {
        "id": "LIX35PYjf-My",
        "colab_type": "code",
        "outputId": "05be606b-e363-432d-ced7-dd22905187cd",
        "colab": {
          "base_uri": "https://localhost:8080/",
          "height": 35
        }
      },
      "source": [
        "#one-hot encode target column\n",
        "y_train = to_categorical(y_train)\n",
        "y_test = to_categorical(y_test)\n",
        "y_train[0]"
      ],
      "execution_count": 0,
      "outputs": [
        {
          "output_type": "execute_result",
          "data": {
            "text/plain": [
              "array([0., 0., 0., 0., 0., 0., 1., 0., 0., 0.], dtype=float32)"
            ]
          },
          "metadata": {
            "tags": []
          },
          "execution_count": 70
        }
      ]
    },
    {
      "cell_type": "markdown",
      "metadata": {
        "id": "u7xiZqcLCToF",
        "colab_type": "text"
      },
      "source": [
        "De aqui en adelante. Aprendimos a reestructurar mejor las capas, usando pooling y capas densas de salida para utilizar una menor cantidad de parametros."
      ]
    },
    {
      "cell_type": "code",
      "metadata": {
        "id": "E76PjD0QgDa3",
        "colab_type": "code",
        "colab": {}
      },
      "source": [
        "#create model\n",
        "model = Sequential()\n",
        "#add model layers\n",
        "model.add(Conv2D(16, kernel_size=3, activation='relu', input_shape=(32,32,3)))\n",
        "model.add(MaxPool2D(2))\n",
        "model.add(Conv2D(32, kernel_size=3, activation='relu'))\n",
        "model.add(MaxPool2D(2))\n",
        "model.add(Conv2D(24, kernel_size=3, activation='relu'))\n",
        "model.add(MaxPool2D(2))\n",
        "model.add(Flatten())\n",
        "model.add(Dense(10, activation='softmax'))"
      ],
      "execution_count": 0,
      "outputs": []
    },
    {
      "cell_type": "markdown",
      "metadata": {
        "id": "M38tqINNhngG",
        "colab_type": "text"
      },
      "source": [
        "### Calculando la cantidad de parametros"
      ]
    },
    {
      "cell_type": "code",
      "metadata": {
        "id": "dBojr-MCgI9-",
        "colab_type": "code",
        "outputId": "15fc6b21-b203-427e-db97-e403ad7b6a82",
        "colab": {
          "base_uri": "https://localhost:8080/",
          "height": 467
        }
      },
      "source": [
        "#compile model using accuracy to measure model performance\n",
        "model.compile(optimizer='adam', loss='categorical_crossentropy', metrics=['accuracy'])\n",
        "print(model.summary())"
      ],
      "execution_count": 0,
      "outputs": [
        {
          "output_type": "stream",
          "text": [
            "Model: \"sequential_15\"\n",
            "_________________________________________________________________\n",
            "Layer (type)                 Output Shape              Param #   \n",
            "=================================================================\n",
            "conv2d_9 (Conv2D)            (None, 30, 30, 16)        448       \n",
            "_________________________________________________________________\n",
            "max_pooling2d_7 (MaxPooling2 (None, 15, 15, 16)        0         \n",
            "_________________________________________________________________\n",
            "conv2d_10 (Conv2D)           (None, 13, 13, 32)        4640      \n",
            "_________________________________________________________________\n",
            "max_pooling2d_8 (MaxPooling2 (None, 6, 6, 32)          0         \n",
            "_________________________________________________________________\n",
            "conv2d_11 (Conv2D)           (None, 4, 4, 24)          6936      \n",
            "_________________________________________________________________\n",
            "max_pooling2d_9 (MaxPooling2 (None, 2, 2, 24)          0         \n",
            "_________________________________________________________________\n",
            "flatten_4 (Flatten)          (None, 96)                0         \n",
            "_________________________________________________________________\n",
            "dense_59 (Dense)             (None, 10)                970       \n",
            "=================================================================\n",
            "Total params: 12,994\n",
            "Trainable params: 12,994\n",
            "Non-trainable params: 0\n",
            "_________________________________________________________________\n",
            "None\n"
          ],
          "name": "stdout"
        }
      ]
    },
    {
      "cell_type": "code",
      "metadata": {
        "id": "qoNOdnhpgQwD",
        "colab_type": "code",
        "outputId": "82d2a68c-ae87-4a91-eff0-aff013ba5377",
        "colab": {
          "base_uri": "https://localhost:8080/",
          "height": 935
        }
      },
      "source": [
        "#train the model\n",
        "history = model.fit(X_train, y_train, validation_data=(X_test, y_test), epochs=25, batch_size=250)"
      ],
      "execution_count": 0,
      "outputs": [
        {
          "output_type": "stream",
          "text": [
            "Train on 50000 samples, validate on 10000 samples\n",
            "Epoch 1/25\n",
            "50000/50000 [==============================] - 2s 36us/step - loss: 3.1980 - accuracy: 0.1036 - val_loss: 2.2993 - val_accuracy: 0.1061\n",
            "Epoch 2/25\n",
            "50000/50000 [==============================] - 2s 32us/step - loss: 2.2908 - accuracy: 0.1143 - val_loss: 2.2851 - val_accuracy: 0.1297\n",
            "Epoch 3/25\n",
            "50000/50000 [==============================] - 2s 32us/step - loss: 2.2099 - accuracy: 0.1827 - val_loss: 2.0051 - val_accuracy: 0.2338\n",
            "Epoch 4/25\n",
            "50000/50000 [==============================] - 2s 32us/step - loss: 1.8573 - accuracy: 0.3086 - val_loss: 1.7673 - val_accuracy: 0.3467\n",
            "Epoch 5/25\n",
            "50000/50000 [==============================] - 2s 32us/step - loss: 1.7172 - accuracy: 0.3690 - val_loss: 1.6925 - val_accuracy: 0.3686\n",
            "Epoch 6/25\n",
            "50000/50000 [==============================] - 2s 32us/step - loss: 1.6123 - accuracy: 0.4100 - val_loss: 1.5461 - val_accuracy: 0.4330\n",
            "Epoch 7/25\n",
            "50000/50000 [==============================] - 2s 32us/step - loss: 1.4950 - accuracy: 0.4540 - val_loss: 1.4818 - val_accuracy: 0.4615\n",
            "Epoch 8/25\n",
            "50000/50000 [==============================] - 2s 31us/step - loss: 1.4292 - accuracy: 0.4806 - val_loss: 1.4304 - val_accuracy: 0.4786\n",
            "Epoch 9/25\n",
            "50000/50000 [==============================] - 2s 32us/step - loss: 1.3730 - accuracy: 0.5034 - val_loss: 1.3820 - val_accuracy: 0.5008\n",
            "Epoch 10/25\n",
            "50000/50000 [==============================] - 2s 32us/step - loss: 1.3340 - accuracy: 0.5204 - val_loss: 1.3399 - val_accuracy: 0.5181\n",
            "Epoch 11/25\n",
            "50000/50000 [==============================] - 2s 32us/step - loss: 1.2899 - accuracy: 0.5383 - val_loss: 1.3539 - val_accuracy: 0.5199\n",
            "Epoch 12/25\n",
            "50000/50000 [==============================] - 2s 32us/step - loss: 1.2645 - accuracy: 0.5479 - val_loss: 1.3189 - val_accuracy: 0.5318\n",
            "Epoch 13/25\n",
            "50000/50000 [==============================] - 2s 32us/step - loss: 1.2363 - accuracy: 0.5583 - val_loss: 1.3378 - val_accuracy: 0.5261\n",
            "Epoch 14/25\n",
            "50000/50000 [==============================] - 2s 33us/step - loss: 1.2182 - accuracy: 0.5650 - val_loss: 1.2979 - val_accuracy: 0.5345\n",
            "Epoch 15/25\n",
            "50000/50000 [==============================] - 2s 32us/step - loss: 1.1907 - accuracy: 0.5749 - val_loss: 1.2555 - val_accuracy: 0.5565\n",
            "Epoch 16/25\n",
            "50000/50000 [==============================] - 2s 31us/step - loss: 1.1594 - accuracy: 0.5853 - val_loss: 1.2239 - val_accuracy: 0.5672\n",
            "Epoch 17/25\n",
            "50000/50000 [==============================] - 2s 32us/step - loss: 1.1418 - accuracy: 0.5939 - val_loss: 1.2270 - val_accuracy: 0.5693\n",
            "Epoch 18/25\n",
            "50000/50000 [==============================] - 2s 32us/step - loss: 1.1199 - accuracy: 0.5985 - val_loss: 1.2097 - val_accuracy: 0.5731\n",
            "Epoch 19/25\n",
            "50000/50000 [==============================] - 2s 32us/step - loss: 1.1089 - accuracy: 0.6052 - val_loss: 1.2475 - val_accuracy: 0.5629\n",
            "Epoch 20/25\n",
            "50000/50000 [==============================] - 2s 32us/step - loss: 1.0885 - accuracy: 0.6144 - val_loss: 1.2038 - val_accuracy: 0.5749\n",
            "Epoch 21/25\n",
            "50000/50000 [==============================] - 2s 32us/step - loss: 1.0675 - accuracy: 0.6215 - val_loss: 1.2252 - val_accuracy: 0.5716\n",
            "Epoch 22/25\n",
            "50000/50000 [==============================] - 2s 32us/step - loss: 1.0579 - accuracy: 0.6232 - val_loss: 1.2008 - val_accuracy: 0.5801\n",
            "Epoch 23/25\n",
            "50000/50000 [==============================] - 2s 32us/step - loss: 1.0414 - accuracy: 0.6307 - val_loss: 1.1871 - val_accuracy: 0.5911\n",
            "Epoch 24/25\n",
            "50000/50000 [==============================] - 2s 32us/step - loss: 1.0286 - accuracy: 0.6358 - val_loss: 1.1759 - val_accuracy: 0.5874\n",
            "Epoch 25/25\n",
            "50000/50000 [==============================] - 2s 31us/step - loss: 1.0226 - accuracy: 0.6358 - val_loss: 1.1493 - val_accuracy: 0.6066\n"
          ],
          "name": "stdout"
        }
      ]
    },
    {
      "cell_type": "code",
      "metadata": {
        "id": "qte29rBXg61j",
        "colab_type": "code",
        "outputId": "ceca770d-95eb-4569-b3f1-070941b68660",
        "colab": {
          "base_uri": "https://localhost:8080/",
          "height": 545
        }
      },
      "source": [
        "accuracy = history.history['accuracy']\n",
        "val_accuracy = history.history['val_accuracy']\n",
        "loss = history.history['loss']\n",
        "val_loss = history.history['val_loss']\n",
        "\n",
        "epochs = range(len(accuracy))\n",
        "\n",
        "plt.plot(epochs, accuracy, 'bo', label='Training accuracy')\n",
        "plt.plot(epochs, val_accuracy, 'b', label='Validation accuracy')\n",
        "plt.title('Training and validation accuracy')\n",
        "plt.legend()\n",
        "\n",
        "plt.figure()\n",
        "\n",
        "plt.plot(epochs, loss, 'bo', label='Training loss')\n",
        "plt.plot(epochs, val_loss, 'b', label='Validation loss')\n",
        "plt.title('Training and validation loss')\n",
        "plt.legend()\n",
        "\n",
        "plt.show()"
      ],
      "execution_count": 0,
      "outputs": [
        {
          "output_type": "display_data",
          "data": {
            "image/png": "[encoded data removed]",
            "text/plain": [
              "<Figure size 432x288 with 1 Axes>"
            ]
          },
          "metadata": {
            "tags": [],
            "needs_background": "light"
          }
        },
        {
          "output_type": "display_data",
          "data": {
            "image/png": "[encoded data removed]",
            "text/plain": [
              "<Figure size 432x288 with 1 Axes>"
            ]
          },
          "metadata": {
            "tags": [],
            "needs_background": "light"
          }
        }
      ]
    },
    {
      "cell_type": "markdown",
      "metadata": {
        "id": "L-TDCv-UhMbC",
        "colab_type": "text"
      },
      "source": [
        "### Resultado y analisis\n",
        "\n",
        "Al utilizar imagenes con colores se aprecia una baja significativa en la accuracy. Utilizando 12.970 parametros, 2 capas convolucionales , 3 capas de pooling y 50 epocas se tiene como maximo un accuracy de 0.6538. \\\\ \n",
        "Lo cual es decente, considerando que elegir al azar nos daria un accuracy teorico de 0.1."
      ]
    },
    {
      "cell_type": "markdown",
      "metadata": {
        "id": "XD9IW3gajjU1",
        "colab_type": "text"
      },
      "source": [
        "## Prueba de red FF con 13.000 parametros"
      ]
    },
    {
      "cell_type": "markdown",
      "metadata": {
        "id": "k-m8jSM9kR5j",
        "colab_type": "text"
      },
      "source": [
        ""
      ]
    },
    {
      "cell_type": "code",
      "metadata": {
        "id": "T0_NPYt1j8Uv",
        "colab_type": "code",
        "colab": {}
      },
      "source": [
        "(train_images, train_labels), (test_images, test_labels) = cifar10.load_data()\n",
        "# Change from matrix to array of dimension 32x32 to array of dimention 1024\n",
        "dimData = np.prod(train_images.shape[1:])\n",
        "train_data = train_images.reshape(train_images.shape[0], dimData)\n",
        "test_data = test_images.reshape(test_images.shape[0], dimData)"
      ],
      "execution_count": 0,
      "outputs": []
    },
    {
      "cell_type": "code",
      "metadata": {
        "id": "Cd1YMm6gkYKx",
        "colab_type": "code",
        "colab": {}
      },
      "source": [
        "# Change to float datatype\n",
        "train_data = train_data.astype('float32')\n",
        "test_data = test_data.astype('float32')\n",
        "\n",
        "# Scale the data to lie between 0 to 1\n",
        "train_data /= 255\n",
        "test_data /= 255"
      ],
      "execution_count": 0,
      "outputs": []
    },
    {
      "cell_type": "code",
      "metadata": {
        "id": "xdpVR5WLknS5",
        "colab_type": "code",
        "outputId": "be7ac10d-0017-4f34-d306-26f2c54b5367",
        "colab": {
          "base_uri": "https://localhost:8080/",
          "height": 53
        }
      },
      "source": [
        "# Change the labels from integer to categorical data\n",
        "train_labels_one_hot = to_categorical(train_labels)\n",
        "test_labels_one_hot = to_categorical(test_labels)\n",
        "\n",
        "# Display the change for category label using one-hot encoding\n",
        "print('Original label 0 : ', train_labels[0])\n",
        "print('After conversion to categorical ( one-hot ) : ', train_labels_one_hot[0])"
      ],
      "execution_count": 0,
      "outputs": [
        {
          "output_type": "stream",
          "text": [
            "Original label 0 :  [6]\n",
            "After conversion to categorical ( one-hot ) :  [0. 0. 0. 0. 0. 0. 1. 0. 0. 0.]\n"
          ],
          "name": "stdout"
        }
      ]
    },
    {
      "cell_type": "code",
      "metadata": {
        "id": "pY7k0Dz-ksyE",
        "colab_type": "code",
        "colab": {}
      },
      "source": [
        "model = Sequential()\n",
        "model.add(Dense(4, activation='relu', input_shape=(dimData,)))\n",
        "model.add(Dense(6, activation='relu'))\n",
        "model.add(Dense(8, activation='relu'))\n",
        "model.add(Dense(10, activation='relu'))\n",
        "model.add(Dense(10, activation='relu'))\n",
        "model.add(Dense(10, activation='softmax'))"
      ],
      "execution_count": 0,
      "outputs": []
    },
    {
      "cell_type": "markdown",
      "metadata": {
        "id": "E2q3OOfHk_nj",
        "colab_type": "text"
      },
      "source": [
        "### Calculo cantidad de parametros"
      ]
    },
    {
      "cell_type": "code",
      "metadata": {
        "id": "nTkLKx18kxEL",
        "colab_type": "code",
        "outputId": "49071128-b1ef-415f-9f7e-b7760de7ebc2",
        "colab": {
          "base_uri": "https://localhost:8080/",
          "height": 395
        }
      },
      "source": [
        "model.compile(optimizer='adam', loss='categorical_crossentropy', metrics=['accuracy'])\n",
        "model.count_params()\n",
        "print(model.summary())"
      ],
      "execution_count": 0,
      "outputs": [
        {
          "output_type": "stream",
          "text": [
            "Model: \"sequential_16\"\n",
            "_________________________________________________________________\n",
            "Layer (type)                 Output Shape              Param #   \n",
            "=================================================================\n",
            "dense_60 (Dense)             (None, 4)                 12292     \n",
            "_________________________________________________________________\n",
            "dense_61 (Dense)             (None, 6)                 30        \n",
            "_________________________________________________________________\n",
            "dense_62 (Dense)             (None, 8)                 56        \n",
            "_________________________________________________________________\n",
            "dense_63 (Dense)             (None, 10)                90        \n",
            "_________________________________________________________________\n",
            "dense_64 (Dense)             (None, 10)                110       \n",
            "_________________________________________________________________\n",
            "dense_65 (Dense)             (None, 10)                110       \n",
            "=================================================================\n",
            "Total params: 12,688\n",
            "Trainable params: 12,688\n",
            "Non-trainable params: 0\n",
            "_________________________________________________________________\n",
            "None\n"
          ],
          "name": "stdout"
        }
      ]
    },
    {
      "cell_type": "code",
      "metadata": {
        "id": "yYcDhdQ1k56G",
        "colab_type": "code",
        "outputId": "b818af94-653f-4106-8f32-b10bec6fa1e0",
        "colab": {
          "base_uri": "https://localhost:8080/",
          "height": 935
        }
      },
      "source": [
        "history = model.fit(train_data, train_labels_one_hot, batch_size=250, epochs=25, verbose=1, validation_data=(test_data, test_labels_one_hot))"
      ],
      "execution_count": 0,
      "outputs": [
        {
          "output_type": "stream",
          "text": [
            "Train on 50000 samples, validate on 10000 samples\n",
            "Epoch 1/25\n",
            "50000/50000 [==============================] - 1s 25us/step - loss: 2.2380 - accuracy: 0.1525 - val_loss: 2.1548 - val_accuracy: 0.1733\n",
            "Epoch 2/25\n",
            "50000/50000 [==============================] - 1s 21us/step - loss: 2.1184 - accuracy: 0.1787 - val_loss: 2.0798 - val_accuracy: 0.1801\n",
            "Epoch 3/25\n",
            "50000/50000 [==============================] - 1s 21us/step - loss: 2.0714 - accuracy: 0.1832 - val_loss: 2.0589 - val_accuracy: 0.1840\n",
            "Epoch 4/25\n",
            "50000/50000 [==============================] - 1s 22us/step - loss: 2.0649 - accuracy: 0.1830 - val_loss: 2.0529 - val_accuracy: 0.1835\n",
            "Epoch 5/25\n",
            "50000/50000 [==============================] - 1s 21us/step - loss: 2.0537 - accuracy: 0.1849 - val_loss: 2.0580 - val_accuracy: 0.1890\n",
            "Epoch 6/25\n",
            "50000/50000 [==============================] - 1s 21us/step - loss: 2.0522 - accuracy: 0.1860 - val_loss: 2.0445 - val_accuracy: 0.1931\n",
            "Epoch 7/25\n",
            "50000/50000 [==============================] - 1s 22us/step - loss: 2.0550 - accuracy: 0.1862 - val_loss: 2.0459 - val_accuracy: 0.1890\n",
            "Epoch 8/25\n",
            "50000/50000 [==============================] - 1s 22us/step - loss: 2.0470 - accuracy: 0.1893 - val_loss: 2.0405 - val_accuracy: 0.1914\n",
            "Epoch 9/25\n",
            "50000/50000 [==============================] - 1s 22us/step - loss: 2.0434 - accuracy: 0.1933 - val_loss: 2.0418 - val_accuracy: 0.1836\n",
            "Epoch 10/25\n",
            "50000/50000 [==============================] - 1s 21us/step - loss: 2.0421 - accuracy: 0.1934 - val_loss: 2.0494 - val_accuracy: 0.1934\n",
            "Epoch 11/25\n",
            "50000/50000 [==============================] - 1s 21us/step - loss: 2.0439 - accuracy: 0.1912 - val_loss: 2.0423 - val_accuracy: 0.1963\n",
            "Epoch 12/25\n",
            "50000/50000 [==============================] - 1s 21us/step - loss: 2.0409 - accuracy: 0.1940 - val_loss: 2.0352 - val_accuracy: 0.1954\n",
            "Epoch 13/25\n",
            "50000/50000 [==============================] - 1s 21us/step - loss: 2.0413 - accuracy: 0.1962 - val_loss: 2.0346 - val_accuracy: 0.1933\n",
            "Epoch 14/25\n",
            "50000/50000 [==============================] - 1s 21us/step - loss: 2.0398 - accuracy: 0.1941 - val_loss: 2.0406 - val_accuracy: 0.1945\n",
            "Epoch 15/25\n",
            "50000/50000 [==============================] - 1s 21us/step - loss: 2.0381 - accuracy: 0.1944 - val_loss: 2.0336 - val_accuracy: 0.1942\n",
            "Epoch 16/25\n",
            "50000/50000 [==============================] - 1s 21us/step - loss: 2.0400 - accuracy: 0.1941 - val_loss: 2.0332 - val_accuracy: 0.1967\n",
            "Epoch 17/25\n",
            "50000/50000 [==============================] - 1s 21us/step - loss: 2.0345 - accuracy: 0.1964 - val_loss: 2.0308 - val_accuracy: 0.1941\n",
            "Epoch 18/25\n",
            "50000/50000 [==============================] - 1s 21us/step - loss: 2.0355 - accuracy: 0.1977 - val_loss: 2.0306 - val_accuracy: 0.1944\n",
            "Epoch 19/25\n",
            "50000/50000 [==============================] - 1s 21us/step - loss: 2.0320 - accuracy: 0.1985 - val_loss: 2.0324 - val_accuracy: 0.1943\n",
            "Epoch 20/25\n",
            "50000/50000 [==============================] - 1s 21us/step - loss: 2.0352 - accuracy: 0.1946 - val_loss: 2.0433 - val_accuracy: 0.1910\n",
            "Epoch 21/25\n",
            "50000/50000 [==============================] - 1s 22us/step - loss: 2.0361 - accuracy: 0.1953 - val_loss: 2.0308 - val_accuracy: 0.1947\n",
            "Epoch 22/25\n",
            "50000/50000 [==============================] - 1s 21us/step - loss: 2.0310 - accuracy: 0.1971 - val_loss: 2.0292 - val_accuracy: 0.1971\n",
            "Epoch 23/25\n",
            "50000/50000 [==============================] - 1s 21us/step - loss: 2.0296 - accuracy: 0.1971 - val_loss: 2.0297 - val_accuracy: 0.1945\n",
            "Epoch 24/25\n",
            "50000/50000 [==============================] - 1s 21us/step - loss: 2.0292 - accuracy: 0.1965 - val_loss: 2.0291 - val_accuracy: 0.1975\n",
            "Epoch 25/25\n",
            "50000/50000 [==============================] - 1s 22us/step - loss: 2.0320 - accuracy: 0.1961 - val_loss: 2.0278 - val_accuracy: 0.1976\n"
          ],
          "name": "stdout"
        }
      ]
    },
    {
      "cell_type": "code",
      "metadata": {
        "id": "18sHNlUVialR",
        "colab_type": "code",
        "outputId": "fe0e2f01-9326-43ce-bb85-5328de0104c8",
        "colab": {
          "base_uri": "https://localhost:8080/",
          "height": 545
        }
      },
      "source": [
        "accuracy = history.history['accuracy']\n",
        "val_accuracy = history.history['val_accuracy']\n",
        "loss = history.history['loss']\n",
        "val_loss = history.history['val_loss']\n",
        "\n",
        "epochs = range(len(accuracy))\n",
        "\n",
        "plt.plot(epochs, accuracy, 'bo', label='Training accuracy')\n",
        "plt.plot(epochs, val_accuracy, 'b', label='Validation accuracy')\n",
        "plt.title('Training and validation accuracy')\n",
        "plt.legend()\n",
        "\n",
        "plt.figure()\n",
        "\n",
        "plt.plot(epochs, loss, 'bo', label='Training loss')\n",
        "plt.plot(epochs, val_loss, 'b', label='Validation loss')\n",
        "plt.title('Training and validation loss')\n",
        "plt.legend()\n",
        "\n",
        "plt.show()"
      ],
      "execution_count": 0,
      "outputs": [
        {
          "output_type": "display_data",
          "data": {
            "image/png": "[encoded data removed]",
            "text/plain": [
              "<Figure size 432x288 with 1 Axes>"
            ]
          },
          "metadata": {
            "tags": [],
            "needs_background": "light"
          }
        },
        {
          "output_type": "display_data",
          "data": {
            "image/png": "[encoded data removed]",
            "text/plain": [
              "<Figure size 432x288 with 1 Axes>"
            ]
          },
          "metadata": {
            "tags": [],
            "needs_background": "light"
          }
        }
      ]
    },
    {
      "cell_type": "markdown",
      "metadata": {
        "id": "1WOR6MDmlmib",
        "colab_type": "text"
      },
      "source": [
        "### Resultado y analisis\n",
        "Utilizando una red Fed-fordward con 12578 parametros y 5 capas\n",
        "El resultado de la accuracy es 0.2805. Mientras, la red convolucional es bastante mejor con un 0.6538. \\\\\n",
        "Podemos notar que incluso utilizando una cantidad relativamente pequeña de parametros, la red convolucional es capaz de reconocer patrones espaciales de manera efectiva y clasificar bien imagenes."
      ]
    },
    {
      "cell_type": "markdown",
      "metadata": {
        "id": "P78UwQHDCxjC",
        "colab_type": "text"
      },
      "source": [
        "# Dataset artificial\n",
        "\n",
        "Para esta sección del taller utilizaremos una funcion sinusoidal generada aleatoriamente por numpy. Se generan $2000$ series de tiempo de la función $\\sin({2x + 1})$. Cada serie de tiempo tendrá 5 inputs y un output, que representan 5 valores de la función, se busca estimar el sexto punto a partir de los 5 anteriores. Utilizaremos estas series para generar un subset de entrenamiento y otro de validación. \\\\\n",
        "Sobre estos sets utilizaremos una red Feed Fordward y una red Convolucional 1D con una cantidad similar de parametros entrenable para analizar experimentalmente el aprendizaje de las redes."
      ]
    },
    {
      "cell_type": "code",
      "metadata": {
        "id": "ohPk4mjDVbrY",
        "colab_type": "code",
        "colab": {}
      },
      "source": [
        "# Generación de datos\n",
        "points = np.random.uniform(0,5,(2000,))\n",
        "\n",
        "series = list()\n",
        "def generateTimeSerie(a):\n",
        "    b = np.random.random_sample(size=None)\n",
        "    return [np.sin(2*(a)+1), np.sin(2*(a+b)+1), np.sin(2*(a+2*b)+1), np.sin(2*(a+3*b)+1), np.sin(2*(a+4*b)+1), np.sin(2*(a+5*b)+1), np.sin(2*(a+6*b)+1), np.sin(2*(a+7*b)+1), np.sin(2*(a+8*b)+1)]\n",
        "\n",
        "for p in points:\n",
        "  series.append(generateTimeSerie(p))\n",
        "\n",
        "X = list()\n",
        "y = list()\n",
        "\n",
        "for s in series:\n",
        "  X.append(s[0:8])\n",
        "  y.append(s[8])\n",
        "X = np.array(X)\n",
        "y = np.array(y)\n",
        "\n",
        "# Split entre train y test\n",
        "from sklearn.model_selection import train_test_split\n",
        "X_train, X_test, y_train, y_test = train_test_split(X, y, test_size=0.20)\n"
      ],
      "execution_count": 0,
      "outputs": []
    },
    {
      "cell_type": "code",
      "metadata": {
        "id": "n32etPomMKjc",
        "colab_type": "code",
        "colab": {}
      },
      "source": [
        "#Creando el modelo de red Feed Fordward\n",
        "modelSineFF = Sequential()\n",
        "modelSineFF.add(Dense(8, input_shape=(8,), activation='relu'))\n",
        "modelSineFF.add(Dense(8, activation='relu'))\n",
        "modelSineFF.add(Dense(1, activation='linear'))"
      ],
      "execution_count": 0,
      "outputs": []
    },
    {
      "cell_type": "code",
      "metadata": {
        "id": "9NbRpT6oMYyg",
        "colab_type": "code",
        "outputId": "58d9c959-78e6-4ab2-a4a6-4b1a13c58a55",
        "colab": {
          "base_uri": "https://localhost:8080/",
          "height": 35
        }
      },
      "source": [
        "#Compilando el modelo\n",
        "modelSineFF.compile(loss='mse', optimizer='adam', metrics=['mae'])\n",
        "modelSineFF.count_params()"
      ],
      "execution_count": 0,
      "outputs": [
        {
          "output_type": "execute_result",
          "data": {
            "text/plain": [
              "153"
            ]
          },
          "metadata": {
            "tags": []
          },
          "execution_count": 84
        }
      ]
    },
    {
      "cell_type": "code",
      "metadata": {
        "id": "3vUAASa-MdTU",
        "colab_type": "code",
        "outputId": "defd28f8-f2ba-42fc-e6a9-f59ff139c943",
        "colab": {
          "base_uri": "https://localhost:8080/",
          "height": 1000
        }
      },
      "source": [
        "#entrenando el modelo\n",
        "#modelSineFF.fit(X_train, y_train, epochs=50, batch_size=25, verbose=2)\n",
        "historySineFF = modelSineFF.fit(X_train, y_train, validation_data=(X_test, y_test), epochs=50, batch_size=25, verbose=1)"
      ],
      "execution_count": 0,
      "outputs": [
        {
          "output_type": "stream",
          "text": [
            "Train on 1600 samples, validate on 400 samples\n",
            "Epoch 1/50\n",
            "1600/1600 [==============================] - 0s 176us/step - loss: 0.6272 - mae: 0.6675 - val_loss: 0.4849 - val_mae: 0.6099\n",
            "Epoch 2/50\n",
            "1600/1600 [==============================] - 0s 119us/step - loss: 0.4627 - mae: 0.5930 - val_loss: 0.4218 - val_mae: 0.5698\n",
            "Epoch 3/50\n",
            "1600/1600 [==============================] - 0s 112us/step - loss: 0.4032 - mae: 0.5561 - val_loss: 0.3863 - val_mae: 0.5416\n",
            "Epoch 4/50\n",
            "1600/1600 [==============================] - 0s 113us/step - loss: 0.3669 - mae: 0.5272 - val_loss: 0.3565 - val_mae: 0.5162\n",
            "Epoch 5/50\n",
            "1600/1600 [==============================] - 0s 117us/step - loss: 0.3359 - mae: 0.5006 - val_loss: 0.3231 - val_mae: 0.4870\n",
            "Epoch 6/50\n",
            "1600/1600 [==============================] - 0s 107us/step - loss: 0.3050 - mae: 0.4722 - val_loss: 0.2888 - val_mae: 0.4558\n",
            "Epoch 7/50\n",
            "1600/1600 [==============================] - 0s 115us/step - loss: 0.2741 - mae: 0.4427 - val_loss: 0.2558 - val_mae: 0.4250\n",
            "Epoch 8/50\n",
            "1600/1600 [==============================] - 0s 113us/step - loss: 0.2418 - mae: 0.4125 - val_loss: 0.2212 - val_mae: 0.3909\n",
            "Epoch 9/50\n",
            "1600/1600 [==============================] - 0s 119us/step - loss: 0.2105 - mae: 0.3813 - val_loss: 0.1892 - val_mae: 0.3578\n",
            "Epoch 10/50\n",
            "1600/1600 [==============================] - 0s 116us/step - loss: 0.1811 - mae: 0.3502 - val_loss: 0.1617 - val_mae: 0.3264\n",
            "Epoch 11/50\n",
            "1600/1600 [==============================] - 0s 126us/step - loss: 0.1552 - mae: 0.3198 - val_loss: 0.1376 - val_mae: 0.2928\n",
            "Epoch 12/50\n",
            "1600/1600 [==============================] - 0s 108us/step - loss: 0.1339 - mae: 0.2918 - val_loss: 0.1185 - val_mae: 0.2686\n",
            "Epoch 13/50\n",
            "1600/1600 [==============================] - 0s 130us/step - loss: 0.1162 - mae: 0.2685 - val_loss: 0.1029 - val_mae: 0.2469\n",
            "Epoch 14/50\n",
            "1600/1600 [==============================] - 0s 118us/step - loss: 0.1015 - mae: 0.2484 - val_loss: 0.0904 - val_mae: 0.2237\n",
            "Epoch 15/50\n",
            "1600/1600 [==============================] - 0s 118us/step - loss: 0.0888 - mae: 0.2288 - val_loss: 0.0808 - val_mae: 0.2173\n",
            "Epoch 16/50\n",
            "1600/1600 [==============================] - 0s 121us/step - loss: 0.0787 - mae: 0.2144 - val_loss: 0.0711 - val_mae: 0.1972\n",
            "Epoch 17/50\n",
            "1600/1600 [==============================] - 0s 116us/step - loss: 0.0687 - mae: 0.2001 - val_loss: 0.0632 - val_mae: 0.1877\n",
            "Epoch 18/50\n",
            "1600/1600 [==============================] - 0s 114us/step - loss: 0.0602 - mae: 0.1855 - val_loss: 0.0558 - val_mae: 0.1733\n",
            "Epoch 19/50\n",
            "1600/1600 [==============================] - 0s 112us/step - loss: 0.0529 - mae: 0.1734 - val_loss: 0.0503 - val_mae: 0.1630\n",
            "Epoch 20/50\n",
            "1600/1600 [==============================] - 0s 110us/step - loss: 0.0464 - mae: 0.1625 - val_loss: 0.0457 - val_mae: 0.1525\n",
            "Epoch 21/50\n",
            "1600/1600 [==============================] - 0s 123us/step - loss: 0.0419 - mae: 0.1518 - val_loss: 0.0419 - val_mae: 0.1492\n",
            "Epoch 22/50\n",
            "1600/1600 [==============================] - 0s 114us/step - loss: 0.0375 - mae: 0.1433 - val_loss: 0.0388 - val_mae: 0.1435\n",
            "Epoch 23/50\n",
            "1600/1600 [==============================] - 0s 116us/step - loss: 0.0341 - mae: 0.1363 - val_loss: 0.0365 - val_mae: 0.1402\n",
            "Epoch 24/50\n",
            "1600/1600 [==============================] - 0s 121us/step - loss: 0.0312 - mae: 0.1294 - val_loss: 0.0329 - val_mae: 0.1302\n",
            "Epoch 25/50\n",
            "1600/1600 [==============================] - 0s 116us/step - loss: 0.0287 - mae: 0.1237 - val_loss: 0.0308 - val_mae: 0.1285\n",
            "Epoch 26/50\n",
            "1600/1600 [==============================] - 0s 120us/step - loss: 0.0268 - mae: 0.1196 - val_loss: 0.0294 - val_mae: 0.1265\n",
            "Epoch 27/50\n",
            "1600/1600 [==============================] - 0s 117us/step - loss: 0.0252 - mae: 0.1163 - val_loss: 0.0273 - val_mae: 0.1221\n",
            "Epoch 28/50\n",
            "1600/1600 [==============================] - 0s 116us/step - loss: 0.0236 - mae: 0.1124 - val_loss: 0.0251 - val_mae: 0.1174\n",
            "Epoch 29/50\n",
            "1600/1600 [==============================] - 0s 114us/step - loss: 0.0219 - mae: 0.1094 - val_loss: 0.0239 - val_mae: 0.1139\n",
            "Epoch 30/50\n",
            "1600/1600 [==============================] - 0s 114us/step - loss: 0.0205 - mae: 0.1044 - val_loss: 0.0232 - val_mae: 0.1130\n",
            "Epoch 31/50\n",
            "1600/1600 [==============================] - 0s 120us/step - loss: 0.0193 - mae: 0.1022 - val_loss: 0.0214 - val_mae: 0.1096\n",
            "Epoch 32/50\n",
            "1600/1600 [==============================] - 0s 121us/step - loss: 0.0181 - mae: 0.0992 - val_loss: 0.0215 - val_mae: 0.1102\n",
            "Epoch 33/50\n",
            "1600/1600 [==============================] - 0s 114us/step - loss: 0.0174 - mae: 0.0978 - val_loss: 0.0205 - val_mae: 0.1085\n",
            "Epoch 34/50\n",
            "1600/1600 [==============================] - 0s 117us/step - loss: 0.0164 - mae: 0.0950 - val_loss: 0.0194 - val_mae: 0.1043\n",
            "Epoch 35/50\n",
            "1600/1600 [==============================] - 0s 114us/step - loss: 0.0159 - mae: 0.0934 - val_loss: 0.0187 - val_mae: 0.1026\n",
            "Epoch 36/50\n",
            "1600/1600 [==============================] - 0s 116us/step - loss: 0.0152 - mae: 0.0912 - val_loss: 0.0180 - val_mae: 0.1025\n",
            "Epoch 37/50\n",
            "1600/1600 [==============================] - 0s 120us/step - loss: 0.0150 - mae: 0.0906 - val_loss: 0.0167 - val_mae: 0.0975\n",
            "Epoch 38/50\n",
            "1600/1600 [==============================] - 0s 108us/step - loss: 0.0144 - mae: 0.0886 - val_loss: 0.0164 - val_mae: 0.0962\n",
            "Epoch 39/50\n",
            "1600/1600 [==============================] - 0s 119us/step - loss: 0.0140 - mae: 0.0869 - val_loss: 0.0157 - val_mae: 0.0941\n",
            "Epoch 40/50\n",
            "1600/1600 [==============================] - 0s 116us/step - loss: 0.0134 - mae: 0.0861 - val_loss: 0.0157 - val_mae: 0.0942\n",
            "Epoch 41/50\n",
            "1600/1600 [==============================] - 0s 115us/step - loss: 0.0130 - mae: 0.0845 - val_loss: 0.0154 - val_mae: 0.0939\n",
            "Epoch 42/50\n",
            "1600/1600 [==============================] - 0s 122us/step - loss: 0.0128 - mae: 0.0843 - val_loss: 0.0147 - val_mae: 0.0918\n",
            "Epoch 43/50\n",
            "1600/1600 [==============================] - 0s 119us/step - loss: 0.0126 - mae: 0.0829 - val_loss: 0.0141 - val_mae: 0.0895\n",
            "Epoch 44/50\n",
            "1600/1600 [==============================] - 0s 108us/step - loss: 0.0122 - mae: 0.0820 - val_loss: 0.0137 - val_mae: 0.0890\n",
            "Epoch 45/50\n",
            "1600/1600 [==============================] - 0s 114us/step - loss: 0.0118 - mae: 0.0810 - val_loss: 0.0135 - val_mae: 0.0893\n",
            "Epoch 46/50\n",
            "1600/1600 [==============================] - 0s 108us/step - loss: 0.0117 - mae: 0.0813 - val_loss: 0.0129 - val_mae: 0.0842\n",
            "Epoch 47/50\n",
            "1600/1600 [==============================] - 0s 114us/step - loss: 0.0112 - mae: 0.0792 - val_loss: 0.0127 - val_mae: 0.0855\n",
            "Epoch 48/50\n",
            "1600/1600 [==============================] - 0s 119us/step - loss: 0.0110 - mae: 0.0787 - val_loss: 0.0128 - val_mae: 0.0852\n",
            "Epoch 49/50\n",
            "1600/1600 [==============================] - 0s 116us/step - loss: 0.0108 - mae: 0.0782 - val_loss: 0.0127 - val_mae: 0.0865\n",
            "Epoch 50/50\n",
            "1600/1600 [==============================] - 0s 113us/step - loss: 0.0107 - mae: 0.0785 - val_loss: 0.0116 - val_mae: 0.0820\n"
          ],
          "name": "stdout"
        }
      ]
    },
    {
      "cell_type": "code",
      "metadata": {
        "id": "lAQugMdMhqPf",
        "colab_type": "code",
        "outputId": "83dd9cec-2d50-4396-e61c-6a021e692ebd",
        "colab": {
          "base_uri": "https://localhost:8080/",
          "height": 545
        }
      },
      "source": [
        "mae = historySineFF.history['mae']\n",
        "val_mae = historySineFF.history['val_mae']\n",
        "loss = historySineFF.history['loss']\n",
        "val_loss = historySineFF.history['val_loss']\n",
        "\n",
        "epochs = range(len(mae))\n",
        "\n",
        "plt.plot(epochs, mae, 'bo', label='Training mae')\n",
        "plt.plot(epochs, val_mae, 'b', label='Validation mae')\n",
        "plt.title('Training and validation mae')\n",
        "plt.legend()\n",
        "\n",
        "plt.figure()\n",
        "\n",
        "plt.plot(epochs, loss, 'bo', label='Training loss')\n",
        "plt.plot(epochs, val_loss, 'b', label='Validation loss')\n",
        "plt.title('Training and validation loss')\n",
        "plt.legend()\n",
        "\n",
        "plt.show()"
      ],
      "execution_count": 0,
      "outputs": [
        {
          "output_type": "display_data",
          "data": {
            "image/png": "[encoded data removed]",
            "text/plain": [
              "<Figure size 432x288 with 1 Axes>"
            ]
          },
          "metadata": {
            "tags": [],
            "needs_background": "light"
          }
        },
        {
          "output_type": "display_data",
          "data": {
            "image/png": "[encoded data removed]",
            "text/plain": [
              "<Figure size 432x288 with 1 Axes>"
            ]
          },
          "metadata": {
            "tags": [],
            "needs_background": "light"
          }
        }
      ]
    },
    {
      "cell_type": "code",
      "metadata": {
        "id": "LO0JgdFvn4HT",
        "colab_type": "code",
        "colab": {}
      },
      "source": [
        "series = list()\n",
        "def generateTimeSerie2(a):\n",
        "    b = np.random.random_sample(size=None)\n",
        "    return [[np.sin(2*(a)+1)], [np.sin(2*(a+b)+1)], [np.sin(2*(a+2*b)+1)], [np.sin(2*(a+3*b)+1)], [np.sin(2*(a+4*b)+1)], [np.sin(2*(a+5*b)+1)], [np.sin(2*(a+6*b)+1)], [np.sin(2*(a+7*b)+1)], np.sin(2*(a+8*b)+1)]\n",
        "\n",
        "for p in points:\n",
        "  series.append(generateTimeSerie2(p))\n",
        "\n",
        "X = list()\n",
        "y = list()\n",
        "\n",
        "for s in series:\n",
        "  X.append(s[0:8])\n",
        "  y.append(s[8])\n",
        "X = np.array(X)\n",
        "y = np.array(y)\n",
        "\n",
        "# Split entre train y test\n",
        "from sklearn.model_selection import train_test_split\n",
        "X_train, X_test, y_train, y_test = train_test_split(X, y, test_size=0.20)"
      ],
      "execution_count": 0,
      "outputs": []
    },
    {
      "cell_type": "code",
      "metadata": {
        "id": "9nN4zaLsk1Lk",
        "colab_type": "code",
        "outputId": "45a11704-5acc-4f34-9f84-447ae752a416",
        "colab": {
          "base_uri": "https://localhost:8080/",
          "height": 35
        }
      },
      "source": [
        "X_train.shape"
      ],
      "execution_count": 0,
      "outputs": [
        {
          "output_type": "execute_result",
          "data": {
            "text/plain": [
              "(1600, 8, 1)"
            ]
          },
          "metadata": {
            "tags": []
          },
          "execution_count": 88
        }
      ]
    },
    {
      "cell_type": "code",
      "metadata": {
        "id": "t7Rp1OuqO_iH",
        "colab_type": "code",
        "colab": {}
      },
      "source": [
        "#Creando el modelo de red conv 1D\n",
        "modelSine1D = Sequential()\n",
        "modelSine1D.add(Conv1D(4, kernel_size=3, activation='relu', input_shape=(8,1)))\n",
        "modelSine1D.add(Conv1D(8, kernel_size=3, activation='relu', input_shape=(8,1)))\n",
        "modelSine1D.add(MaxPool1D(2))\n",
        "modelSine1D.add(Flatten())\n",
        "modelSine1D.add(Dense(4, activation='relu'))\n",
        "modelSine1D.add(Dense(1, activation='linear'))"
      ],
      "execution_count": 0,
      "outputs": []
    },
    {
      "cell_type": "code",
      "metadata": {
        "id": "kBPF3HGQPVaJ",
        "colab_type": "code",
        "outputId": "661689a3-7a22-4eb7-ba74-ba43fca0e67a",
        "colab": {
          "base_uri": "https://localhost:8080/",
          "height": 395
        }
      },
      "source": [
        "#Compilando el modelo\n",
        "modelSine1D.compile(loss='mse', optimizer='adam', metrics=['mae'])\n",
        "modelSine1D.count_params()\n",
        "print(modelSine1D.summary())"
      ],
      "execution_count": 0,
      "outputs": [
        {
          "output_type": "stream",
          "text": [
            "Model: \"sequential_18\"\n",
            "_________________________________________________________________\n",
            "Layer (type)                 Output Shape              Param #   \n",
            "=================================================================\n",
            "conv1d_1 (Conv1D)            (None, 6, 4)              16        \n",
            "_________________________________________________________________\n",
            "conv1d_2 (Conv1D)            (None, 4, 8)              104       \n",
            "_________________________________________________________________\n",
            "max_pooling1d_1 (MaxPooling1 (None, 2, 8)              0         \n",
            "_________________________________________________________________\n",
            "flatten_5 (Flatten)          (None, 16)                0         \n",
            "_________________________________________________________________\n",
            "dense_69 (Dense)             (None, 4)                 68        \n",
            "_________________________________________________________________\n",
            "dense_70 (Dense)             (None, 1)                 5         \n",
            "=================================================================\n",
            "Total params: 193\n",
            "Trainable params: 193\n",
            "Non-trainable params: 0\n",
            "_________________________________________________________________\n",
            "None\n"
          ],
          "name": "stdout"
        }
      ]
    },
    {
      "cell_type": "code",
      "metadata": {
        "id": "PT8F4dVlPZcs",
        "colab_type": "code",
        "outputId": "937f3314-cc5b-428e-b04f-15997802910c",
        "colab": {
          "base_uri": "https://localhost:8080/",
          "height": 1000
        }
      },
      "source": [
        "#entrenando el modelo\n",
        "historySineFF = modelSine1D.fit(X_train, y_train, validation_data=(X_test, y_test), epochs=50, batch_size=25, verbose=1)"
      ],
      "execution_count": 0,
      "outputs": [
        {
          "output_type": "stream",
          "text": [
            "Train on 1600 samples, validate on 400 samples\n",
            "Epoch 1/50\n",
            "1600/1600 [==============================] - 0s 240us/step - loss: 0.4930 - mae: 0.6235 - val_loss: 0.4903 - val_mae: 0.6303\n",
            "Epoch 2/50\n",
            "1600/1600 [==============================] - 0s 155us/step - loss: 0.4605 - mae: 0.6048 - val_loss: 0.4683 - val_mae: 0.6126\n",
            "Epoch 3/50\n",
            "1600/1600 [==============================] - 0s 143us/step - loss: 0.4385 - mae: 0.5893 - val_loss: 0.4471 - val_mae: 0.5969\n",
            "Epoch 4/50\n",
            "1600/1600 [==============================] - 0s 140us/step - loss: 0.4102 - mae: 0.5673 - val_loss: 0.4152 - val_mae: 0.5745\n",
            "Epoch 5/50\n",
            "1600/1600 [==============================] - 0s 147us/step - loss: 0.3717 - mae: 0.5343 - val_loss: 0.3702 - val_mae: 0.5392\n",
            "Epoch 6/50\n",
            "1600/1600 [==============================] - 0s 148us/step - loss: 0.3158 - mae: 0.4894 - val_loss: 0.2958 - val_mae: 0.4799\n",
            "Epoch 7/50\n",
            "1600/1600 [==============================] - 0s 144us/step - loss: 0.2541 - mae: 0.4347 - val_loss: 0.2271 - val_mae: 0.4158\n",
            "Epoch 8/50\n",
            "1600/1600 [==============================] - 0s 152us/step - loss: 0.1968 - mae: 0.3740 - val_loss: 0.1705 - val_mae: 0.3521\n",
            "Epoch 9/50\n",
            "1600/1600 [==============================] - 0s 154us/step - loss: 0.1515 - mae: 0.3188 - val_loss: 0.1340 - val_mae: 0.3041\n",
            "Epoch 10/50\n",
            "1600/1600 [==============================] - 0s 163us/step - loss: 0.1200 - mae: 0.2753 - val_loss: 0.1092 - val_mae: 0.2667\n",
            "Epoch 11/50\n",
            "1600/1600 [==============================] - 0s 161us/step - loss: 0.0978 - mae: 0.2431 - val_loss: 0.0922 - val_mae: 0.2403\n",
            "Epoch 12/50\n",
            "1600/1600 [==============================] - 0s 149us/step - loss: 0.0822 - mae: 0.2204 - val_loss: 0.0806 - val_mae: 0.2227\n",
            "Epoch 13/50\n",
            "1600/1600 [==============================] - 0s 144us/step - loss: 0.0703 - mae: 0.2035 - val_loss: 0.0694 - val_mae: 0.2059\n",
            "Epoch 14/50\n",
            "1600/1600 [==============================] - 0s 146us/step - loss: 0.0609 - mae: 0.1883 - val_loss: 0.0614 - val_mae: 0.1919\n",
            "Epoch 15/50\n",
            "1600/1600 [==============================] - 0s 148us/step - loss: 0.0543 - mae: 0.1763 - val_loss: 0.0559 - val_mae: 0.1784\n",
            "Epoch 16/50\n",
            "1600/1600 [==============================] - 0s 151us/step - loss: 0.0484 - mae: 0.1665 - val_loss: 0.0523 - val_mae: 0.1747\n",
            "Epoch 17/50\n",
            "1600/1600 [==============================] - 0s 143us/step - loss: 0.0431 - mae: 0.1563 - val_loss: 0.0478 - val_mae: 0.1674\n",
            "Epoch 18/50\n",
            "1600/1600 [==============================] - 0s 142us/step - loss: 0.0387 - mae: 0.1472 - val_loss: 0.0428 - val_mae: 0.1536\n",
            "Epoch 19/50\n",
            "1600/1600 [==============================] - 0s 149us/step - loss: 0.0360 - mae: 0.1426 - val_loss: 0.0413 - val_mae: 0.1510\n",
            "Epoch 20/50\n",
            "1600/1600 [==============================] - 0s 143us/step - loss: 0.0334 - mae: 0.1374 - val_loss: 0.0373 - val_mae: 0.1440\n",
            "Epoch 21/50\n",
            "1600/1600 [==============================] - 0s 140us/step - loss: 0.0307 - mae: 0.1323 - val_loss: 0.0357 - val_mae: 0.1425\n",
            "Epoch 22/50\n",
            "1600/1600 [==============================] - 0s 139us/step - loss: 0.0287 - mae: 0.1277 - val_loss: 0.0333 - val_mae: 0.1383\n",
            "Epoch 23/50\n",
            "1600/1600 [==============================] - 0s 149us/step - loss: 0.0268 - mae: 0.1237 - val_loss: 0.0298 - val_mae: 0.1278\n",
            "Epoch 24/50\n",
            "1600/1600 [==============================] - 0s 151us/step - loss: 0.0246 - mae: 0.1167 - val_loss: 0.0282 - val_mae: 0.1249\n",
            "Epoch 25/50\n",
            "1600/1600 [==============================] - 0s 144us/step - loss: 0.0230 - mae: 0.1127 - val_loss: 0.0268 - val_mae: 0.1207\n",
            "Epoch 26/50\n",
            "1600/1600 [==============================] - 0s 139us/step - loss: 0.0209 - mae: 0.1076 - val_loss: 0.0244 - val_mae: 0.1158\n",
            "Epoch 27/50\n",
            "1600/1600 [==============================] - 0s 145us/step - loss: 0.0200 - mae: 0.1053 - val_loss: 0.0226 - val_mae: 0.1108\n",
            "Epoch 28/50\n",
            "1600/1600 [==============================] - 0s 151us/step - loss: 0.0187 - mae: 0.1030 - val_loss: 0.0215 - val_mae: 0.1077\n",
            "Epoch 29/50\n",
            "1600/1600 [==============================] - 0s 142us/step - loss: 0.0169 - mae: 0.0970 - val_loss: 0.0224 - val_mae: 0.1147\n",
            "Epoch 30/50\n",
            "1600/1600 [==============================] - 0s 142us/step - loss: 0.0158 - mae: 0.0936 - val_loss: 0.0188 - val_mae: 0.1021\n",
            "Epoch 31/50\n",
            "1600/1600 [==============================] - 0s 148us/step - loss: 0.0149 - mae: 0.0906 - val_loss: 0.0190 - val_mae: 0.1025\n",
            "Epoch 32/50\n",
            "1600/1600 [==============================] - 0s 155us/step - loss: 0.0143 - mae: 0.0887 - val_loss: 0.0182 - val_mae: 0.1002\n",
            "Epoch 33/50\n",
            "1600/1600 [==============================] - 0s 151us/step - loss: 0.0140 - mae: 0.0880 - val_loss: 0.0182 - val_mae: 0.0993\n",
            "Epoch 34/50\n",
            "1600/1600 [==============================] - 0s 145us/step - loss: 0.0130 - mae: 0.0844 - val_loss: 0.0173 - val_mae: 0.0968\n",
            "Epoch 35/50\n",
            "1600/1600 [==============================] - 0s 145us/step - loss: 0.0129 - mae: 0.0844 - val_loss: 0.0160 - val_mae: 0.0921\n",
            "Epoch 36/50\n",
            "1600/1600 [==============================] - 0s 175us/step - loss: 0.0120 - mae: 0.0804 - val_loss: 0.0158 - val_mae: 0.0899\n",
            "Epoch 37/50\n",
            "1600/1600 [==============================] - 0s 152us/step - loss: 0.0118 - mae: 0.0793 - val_loss: 0.0160 - val_mae: 0.0909\n",
            "Epoch 38/50\n",
            "1600/1600 [==============================] - 0s 152us/step - loss: 0.0113 - mae: 0.0776 - val_loss: 0.0145 - val_mae: 0.0855\n",
            "Epoch 39/50\n",
            "1600/1600 [==============================] - 0s 147us/step - loss: 0.0112 - mae: 0.0777 - val_loss: 0.0144 - val_mae: 0.0858\n",
            "Epoch 40/50\n",
            "1600/1600 [==============================] - 0s 159us/step - loss: 0.0107 - mae: 0.0750 - val_loss: 0.0147 - val_mae: 0.0885\n",
            "Epoch 41/50\n",
            "1600/1600 [==============================] - 0s 167us/step - loss: 0.0108 - mae: 0.0763 - val_loss: 0.0142 - val_mae: 0.0857\n",
            "Epoch 42/50\n",
            "1600/1600 [==============================] - 0s 153us/step - loss: 0.0102 - mae: 0.0738 - val_loss: 0.0158 - val_mae: 0.0932\n",
            "Epoch 43/50\n",
            "1600/1600 [==============================] - 0s 149us/step - loss: 0.0103 - mae: 0.0743 - val_loss: 0.0136 - val_mae: 0.0842\n",
            "Epoch 44/50\n",
            "1600/1600 [==============================] - 0s 158us/step - loss: 0.0101 - mae: 0.0733 - val_loss: 0.0133 - val_mae: 0.0819\n",
            "Epoch 45/50\n",
            "1600/1600 [==============================] - 0s 157us/step - loss: 0.0099 - mae: 0.0731 - val_loss: 0.0129 - val_mae: 0.0813\n",
            "Epoch 46/50\n",
            "1600/1600 [==============================] - 0s 150us/step - loss: 0.0093 - mae: 0.0705 - val_loss: 0.0129 - val_mae: 0.0801\n",
            "Epoch 47/50\n",
            "1600/1600 [==============================] - 0s 152us/step - loss: 0.0094 - mae: 0.0720 - val_loss: 0.0131 - val_mae: 0.0823\n",
            "Epoch 48/50\n",
            "1600/1600 [==============================] - 0s 156us/step - loss: 0.0092 - mae: 0.0703 - val_loss: 0.0125 - val_mae: 0.0795\n",
            "Epoch 49/50\n",
            "1600/1600 [==============================] - 0s 158us/step - loss: 0.0087 - mae: 0.0681 - val_loss: 0.0124 - val_mae: 0.0795\n",
            "Epoch 50/50\n",
            "1600/1600 [==============================] - 0s 147us/step - loss: 0.0089 - mae: 0.0692 - val_loss: 0.0116 - val_mae: 0.0767\n"
          ],
          "name": "stdout"
        }
      ]
    },
    {
      "cell_type": "code",
      "metadata": {
        "id": "JN6RCczsouM-",
        "colab_type": "code",
        "outputId": "93353d86-54fe-40be-feb2-0bee4fa17211",
        "colab": {
          "base_uri": "https://localhost:8080/",
          "height": 545
        }
      },
      "source": [
        "mae = historySineFF.history['mae']\n",
        "val_mae = historySineFF.history['val_mae']\n",
        "loss = historySineFF.history['loss']\n",
        "val_loss = historySineFF.history['val_loss']\n",
        "\n",
        "epochs = range(len(mae))\n",
        "\n",
        "plt.plot(epochs, mae, 'bo', label='Training mae')\n",
        "plt.plot(epochs, val_mae, 'b', label='Validation mae')\n",
        "plt.title('Training and validation mae')\n",
        "plt.legend()\n",
        "\n",
        "plt.figure()\n",
        "\n",
        "plt.plot(epochs, loss, 'bo', label='Training loss')\n",
        "plt.plot(epochs, val_loss, 'b', label='Validation loss')\n",
        "plt.title('Training and validation loss')\n",
        "plt.legend()\n",
        "\n",
        "plt.show()"
      ],
      "execution_count": 0,
      "outputs": [
        {
          "output_type": "display_data",
          "data": {
            "image/png": "[encoded data removed]",
            "text/plain": [
              "<Figure size 432x288 with 1 Axes>"
            ]
          },
          "metadata": {
            "tags": [],
            "needs_background": "light"
          }
        },
        {
          "output_type": "display_data",
          "data": {
            "image/png": "[encoded data removed]",
            "text/plain": [
              "<Figure size 432x288 with 1 Axes>"
            ]
          },
          "metadata": {
            "tags": [],
            "needs_background": "light"
          }
        }
      ]
    },
    {
      "cell_type": "markdown",
      "metadata": {
        "id": "rTU1tPMjHTjr",
        "colab_type": "text"
      },
      "source": [
        "## Conclusiones Generales\n",
        "\n",
        "El tamaño del input condiciona la arquitectura de la red CNN, por ejemplo con un input de 32x32 si se quiere utilizar pooling, la red no será muy profunda (se vuelve dificil ocupar más de 3 poolings). \n"
      ]
    },
    {
      "cell_type": "markdown",
      "metadata": {
        "id": "K5hH6QzzXBQq",
        "colab_type": "text"
      },
      "source": [
        ""
      ]
    }
  ]
}