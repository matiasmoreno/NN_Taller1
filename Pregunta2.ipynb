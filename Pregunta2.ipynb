{
  "nbformat": 4,
  "nbformat_minor": 0,
  "metadata": {
    "colab": {
      "name": "Pregunta2.ipynb",
      "provenance": [],
      "collapsed_sections": [],
      "toc_visible": true
    },
    "kernelspec": {
      "name": "python3",
      "display_name": "Python 3"
    },
    "accelerator": "GPU"
  },
  "cells": [
    {
      "cell_type": "markdown",
      "metadata": {
        "id": "XG9D5BEQi26w",
        "colab_type": "text"
      },
      "source": [
        "###Instalación de librerias"
      ]
    },
    {
      "cell_type": "code",
      "metadata": {
        "id": "MtXH5j-Ti1_a",
        "colab_type": "code",
        "outputId": "9acced3f-b005-42ad-8c54-894f8ae0ac44",
        "colab": {
          "base_uri": "https://localhost:8080/",
          "height": 107
        }
      },
      "source": [
        "!pip install split-folders\n",
        "!pip install pillow"
      ],
      "execution_count": 0,
      "outputs": [
        {
          "output_type": "stream",
          "text": [
            "Collecting split-folders\n",
            "  Downloading https://files.pythonhosted.org/packages/20/67/29dda743e6d23ac1ea3d16704d8bbb48d65faf3f1b1eaf53153b3da56c56/split_folders-0.3.1-py3-none-any.whl\n",
            "Installing collected packages: split-folders\n",
            "Successfully installed split-folders-0.3.1\n",
            "Requirement already satisfied: pillow in /usr/local/lib/python3.6/dist-packages (7.0.0)\n"
          ],
          "name": "stdout"
        }
      ]
    },
    {
      "cell_type": "markdown",
      "metadata": {
        "id": "2_FB1PR_gj2p",
        "colab_type": "text"
      },
      "source": [
        "###Librerias a utilizar\n"
      ]
    },
    {
      "cell_type": "code",
      "metadata": {
        "id": "O5xD2RgzmJBG",
        "colab_type": "code",
        "colab": {}
      },
      "source": [
        "import os\n",
        "import zipfile\n",
        "import sys\n",
        "import random\n",
        "import shutil\n",
        "import tensorflow as tf\n",
        "from tensorflow.keras.optimizers import RMSprop\n",
        "from tensorflow.keras.preprocessing.image import ImageDataGenerator\n",
        "from shutil import copyfile\n",
        "import pandas as pd\n",
        "import numpy as np\n",
        "from __future__ import print_function\n",
        "from PIL import Image\n",
        "import csv"
      ],
      "execution_count": 0,
      "outputs": []
    },
    {
      "cell_type": "markdown",
      "metadata": {
        "id": "FM2potd6gwsu",
        "colab_type": "text"
      },
      "source": [
        "###Descarga de archivos \n",
        "El link de descarga es el de kaggle y puede expirar, si esto sucede se debe colocar un link nuevo."
      ]
    },
    {
      "cell_type": "code",
      "metadata": {
        "id": "0-gLsSKOvJm4",
        "colab_type": "code",
        "outputId": "7c6d7961-4429-403d-b0a1-462b0c3eb117",
        "colab": {
          "base_uri": "https://localhost:8080/",
          "height": 235
        }
      },
      "source": [
        "!wget --no-check-certificate \\\n",
        "    \"https://storage.googleapis.com/kaggle-competitions-data/kaggle-v2/20469/1149452/bundle/archive.zip?GoogleAccessId=web-data@kaggle-161607.iam.gserviceaccount.com&Expires=1590970837&Signature=AFu5daB%2B%2BxwTMCJ0oAHyNuSwl%2BPiRLXsGurVq71yYcspp%2FYIW8VvJDtO9EWYxWOT9IrO88A4N3nH1n4gtUhoHKVfVbFk1mB9ETgph1D8b7jk7X%2BGH3ygKsXN0IBubP85l1s%2BQPJ6EgksX6qMgdnA2BePtbiw3dAHawwZy9T8%2Bl14Y%2BCvIH2ZofBQSOXw0oqT%2FbMT1RKS5PuAwM3K7wmB9fvYZgJdcZRDuV9JWyhJEIEurZiwhY7IaqHssqMpzvUTdAD1zDMHmLOpaL8dmh30%2FfQ%2BqxqJ4j1LFSvD0TibozAlYGWp9tsBIiWvCRK3Sb%2Bx7JnqsLOygoJlHxrn9cjOhQ%3D%3D&response-content-disposition=attachment%3B+filename%3Dtaller1ann-usm.zip\" \\\n",
        "    -O \"/tmp/datos.zip\"\n",
        "\n",
        "local_zip = '/tmp/datos.zip'\n",
        "zip_ref   = zipfile.ZipFile(local_zip, 'r')\n",
        "zip_ref.extractall('/tmp')\n",
        "zip_ref.close()\n"
      ],
      "execution_count": 0,
      "outputs": [
        {
          "output_type": "stream",
          "text": [
            "--2020-05-30 16:13:12--  https://storage.googleapis.com/kaggle-competitions-data/kaggle-v2/20469/1149452/bundle/archive.zip?GoogleAccessId=web-data@kaggle-161607.iam.gserviceaccount.com&Expires=1590970837&Signature=AFu5daB%2B%2BxwTMCJ0oAHyNuSwl%2BPiRLXsGurVq71yYcspp%2FYIW8VvJDtO9EWYxWOT9IrO88A4N3nH1n4gtUhoHKVfVbFk1mB9ETgph1D8b7jk7X%2BGH3ygKsXN0IBubP85l1s%2BQPJ6EgksX6qMgdnA2BePtbiw3dAHawwZy9T8%2Bl14Y%2BCvIH2ZofBQSOXw0oqT%2FbMT1RKS5PuAwM3K7wmB9fvYZgJdcZRDuV9JWyhJEIEurZiwhY7IaqHssqMpzvUTdAD1zDMHmLOpaL8dmh30%2FfQ%2BqxqJ4j1LFSvD0TibozAlYGWp9tsBIiWvCRK3Sb%2Bx7JnqsLOygoJlHxrn9cjOhQ%3D%3D&response-content-disposition=attachment%3B+filename%3Dtaller1ann-usm.zip\n",
            "Resolving storage.googleapis.com (storage.googleapis.com)... 172.217.194.128, 2404:6800:4003:c03::80\n",
            "Connecting to storage.googleapis.com (storage.googleapis.com)|172.217.194.128|:443... connected.\n",
            "HTTP request sent, awaiting response... 200 OK\n",
            "Length: 84725967 (81M) [application/zip]\n",
            "Saving to: ‘/tmp/datos.zip’\n",
            "\n",
            "/tmp/datos.zip      100%[===================>]  80.80M  26.2MB/s    in 3.1s    \n",
            "\n",
            "2020-05-30 16:13:16 (26.2 MB/s) - ‘/tmp/datos.zip’ saved [84725967/84725967]\n",
            "\n"
          ],
          "name": "stdout"
        }
      ]
    },
    {
      "cell_type": "markdown",
      "metadata": {
        "id": "aijEVfIWiVtZ",
        "colab_type": "text"
      },
      "source": [
        "###Se separa el dataset en subcarpetas con el nombre de cada categoria"
      ]
    },
    {
      "cell_type": "code",
      "metadata": {
        "id": "Wmzhm-_1GnH1",
        "colab_type": "code",
        "colab": {}
      },
      "source": [
        "labels = pd.read_csv('/tmp/train_labels.csv')\n",
        "\n",
        "# En la carpeta `train_sep` se guardaran las imagenes divididas por categoria\n",
        "train_dir = '/tmp/train_images/'\n",
        "train_sep_dir = '/tmp/train_sep/'\n",
        "if not os.path.exists(train_sep_dir):\n",
        "    os.mkdir(train_sep_dir)\n",
        "\n",
        "for filename, class_name in labels.values:\n",
        "    # Create subdirectory with `class_name`\n",
        "    if not os.path.exists(train_sep_dir + class_name):\n",
        "        os.mkdir(train_sep_dir + class_name)\n",
        "    src_path = train_dir + filename + '.jpg'\n",
        "    dst_path = train_sep_dir + class_name + '/' + filename + '.jpg'\n",
        "    try:\n",
        "        shutil.copy(src_path, dst_path)\n",
        "    except IOError as e:\n",
        "        print('Unable to copy file {} to {}'\n",
        "              .format(src_path, dst_path))\n",
        "    except:\n",
        "        print('When try copy file {} to {}, unexpected error: {}'\n",
        "              .format(src_path, dst_path, sys.exc_info()))"
      ],
      "execution_count": 0,
      "outputs": []
    },
    {
      "cell_type": "markdown",
      "metadata": {
        "id": "gL7gfPk0ik26",
        "colab_type": "text"
      },
      "source": [
        "###Se crea un conjunto de train y de validacion para entrenar el modelo"
      ]
    },
    {
      "cell_type": "code",
      "metadata": {
        "id": "PFVQO53vIFl2",
        "colab_type": "code",
        "outputId": "befd5d0b-133a-46f7-f4f1-a1d5c207d93b",
        "colab": {
          "base_uri": "https://localhost:8080/",
          "height": 35
        }
      },
      "source": [
        "import split_folders\n",
        "split_folders.ratio('/tmp/train_sep/', output=\"/tmp/output\", seed=56323, ratio=(.9, .1)) # default values"
      ],
      "execution_count": 0,
      "outputs": [
        {
          "output_type": "stream",
          "text": [
            "Copying files: 9212 files [00:01, 7318.69 files/s]\n"
          ],
          "name": "stderr"
        }
      ]
    },
    {
      "cell_type": "markdown",
      "metadata": {
        "id": "Bv07dNP1VBPt",
        "colab_type": "text"
      },
      "source": [
        "###Rutas de los conjuntos a utilizar"
      ]
    },
    {
      "cell_type": "code",
      "metadata": {
        "id": "O4esa3nvU-CM",
        "colab_type": "code",
        "colab": {}
      },
      "source": [
        "TRAINING_DIR = \"/tmp/output/train\"\n",
        "VALIDATION_DIR = \"/tmp/output/val\""
      ],
      "execution_count": 0,
      "outputs": []
    },
    {
      "cell_type": "code",
      "metadata": {
        "id": "UG8h8Nu5Is96",
        "colab_type": "code",
        "outputId": "8a13c04e-4894-4129-e1bb-091f0b393f04",
        "colab": {
          "base_uri": "https://localhost:8080/",
          "height": 53
        }
      },
      "source": [
        "train_datagen = ImageDataGenerator(rescale=1.0/255.)\n",
        "train_generator = train_datagen.flow_from_directory(TRAINING_DIR,\n",
        "                                                    batch_size=20,\n",
        "                                                    class_mode='categorical',\n",
        "                                                    target_size=(128, 128))\n",
        "\n",
        "validation_datagen = ImageDataGenerator(rescale=1.0/255.)\n",
        "validation_generator = validation_datagen.flow_from_directory(VALIDATION_DIR,\n",
        "                                                              batch_size=20,\n",
        "                                                              class_mode='categorical',\n",
        "                                                              target_size=(128, 128))"
      ],
      "execution_count": 0,
      "outputs": [
        {
          "output_type": "stream",
          "text": [
            "Found 8286 images belonging to 10 classes.\n",
            "Found 926 images belonging to 10 classes.\n"
          ],
          "name": "stdout"
        }
      ]
    },
    {
      "cell_type": "markdown",
      "metadata": {
        "id": "n3lMWu7JVHhD",
        "colab_type": "text"
      },
      "source": [
        "###Modelo FF"
      ]
    },
    {
      "cell_type": "code",
      "metadata": {
        "id": "KFF_KCTtI4dU",
        "colab_type": "code",
        "colab": {}
      },
      "source": [
        "from keras.models import Sequential\n",
        "from keras.layers import Dense, Conv2D, Flatten, MaxPool2D\n",
        "from keras.layers import Dropout\n",
        "from keras.layers import SpatialDropout2D\n",
        "#create model\n",
        "\n",
        "model = Sequential()\n",
        "model.add(Conv2D(input_shape=(128,128,3),filters=64,kernel_size=(3,3),padding=\"same\", activation=\"relu\"))\n",
        "model.add(Conv2D(filters=64,kernel_size=(3,3),padding=\"same\", activation=\"relu\"))\n",
        "model.add(MaxPool2D(pool_size=(2,2),strides=(2,2)))\n",
        "\n",
        "model.add(Conv2D(filters=128, kernel_size=(3,3), padding=\"same\", activation=\"relu\"))\n",
        "model.add(Conv2D(filters=128, kernel_size=(3,3), padding=\"same\", activation=\"relu\"))\n",
        "model.add(MaxPool2D(pool_size=(2,2),strides=(2,2)))\n",
        "\n",
        "model.add(Conv2D(filters=256, kernel_size=(3,3), padding=\"same\", activation=\"relu\"))\n",
        "model.add(Conv2D(filters=256, kernel_size=(3,3), padding=\"same\", activation=\"relu\"))\n",
        "model.add(Conv2D(filters=256, kernel_size=(3,3), padding=\"same\", activation=\"relu\"))\n",
        "model.add(MaxPool2D(pool_size=(2,2),strides=(2,2)))\n",
        "\n",
        "model.add(Flatten())\n",
        "model.add(Dense(1024, activation='relu'))\n",
        "\n",
        "\n",
        "model.add(Dense(10, activation='softmax'))\n"
      ],
      "execution_count": 0,
      "outputs": []
    },
    {
      "cell_type": "code",
      "metadata": {
        "id": "NBPw8IKCa9zG",
        "colab_type": "code",
        "outputId": "ff1dabe9-a177-4470-83af-bc7b62b414b2",
        "colab": {
          "base_uri": "https://localhost:8080/",
          "height": 629
        }
      },
      "source": [
        "model.summary()"
      ],
      "execution_count": 0,
      "outputs": [
        {
          "output_type": "stream",
          "text": [
            "Model: \"sequential_6\"\n",
            "_________________________________________________________________\n",
            "Layer (type)                 Output Shape              Param #   \n",
            "=================================================================\n",
            "conv2d_29 (Conv2D)           (None, 128, 128, 64)      1792      \n",
            "_________________________________________________________________\n",
            "conv2d_30 (Conv2D)           (None, 128, 128, 64)      36928     \n",
            "_________________________________________________________________\n",
            "max_pooling2d_17 (MaxPooling (None, 64, 64, 64)        0         \n",
            "_________________________________________________________________\n",
            "conv2d_31 (Conv2D)           (None, 64, 64, 128)       73856     \n",
            "_________________________________________________________________\n",
            "conv2d_32 (Conv2D)           (None, 64, 64, 128)       147584    \n",
            "_________________________________________________________________\n",
            "max_pooling2d_18 (MaxPooling (None, 32, 32, 128)       0         \n",
            "_________________________________________________________________\n",
            "conv2d_33 (Conv2D)           (None, 32, 32, 256)       295168    \n",
            "_________________________________________________________________\n",
            "conv2d_34 (Conv2D)           (None, 32, 32, 256)       590080    \n",
            "_________________________________________________________________\n",
            "conv2d_35 (Conv2D)           (None, 32, 32, 256)       590080    \n",
            "_________________________________________________________________\n",
            "max_pooling2d_19 (MaxPooling (None, 16, 16, 256)       0         \n",
            "_________________________________________________________________\n",
            "flatten_5 (Flatten)          (None, 65536)             0         \n",
            "_________________________________________________________________\n",
            "dense_12 (Dense)             (None, 1024)              67109888  \n",
            "_________________________________________________________________\n",
            "dense_13 (Dense)             (None, 10)                10250     \n",
            "=================================================================\n",
            "Total params: 68,855,626\n",
            "Trainable params: 68,855,626\n",
            "Non-trainable params: 0\n",
            "_________________________________________________________________\n"
          ],
          "name": "stdout"
        }
      ]
    },
    {
      "cell_type": "markdown",
      "metadata": {
        "id": "uf4RB6oSVfHU",
        "colab_type": "text"
      },
      "source": [
        "###Entrenamiento del modelo"
      ]
    },
    {
      "cell_type": "code",
      "metadata": {
        "id": "zsco0AQMJ5zl",
        "colab_type": "code",
        "colab": {}
      },
      "source": [
        "from keras.optimizers import Adam\n",
        "model.compile(optimizer=Adam(), loss='categorical_crossentropy', metrics=['accuracy'])"
      ],
      "execution_count": 0,
      "outputs": []
    },
    {
      "cell_type": "code",
      "metadata": {
        "id": "vJrA2TADI69t",
        "colab_type": "code",
        "outputId": "e370f326-070e-4388-e93a-09ea29e054f8",
        "colab": {
          "base_uri": "https://localhost:8080/",
          "height": 1000
        }
      },
      "source": [
        "from keras.callbacks import ModelCheckpoint, EarlyStopping\n",
        "checkpoint = ModelCheckpoint(\"RedFF.h5\", monitor='val_acc', verbose=1, save_best_only=True, save_weights_only=False, mode='auto', period=1)\n",
        "early = EarlyStopping(monitor='val_acc', min_delta=0, patience=20, verbose=1, mode='auto')\n",
        "\n",
        "\n",
        "hist = model.fit_generator(steps_per_epoch=10,generator=train_generator, validation_data= validation_generator, validation_steps=10,epochs=100,callbacks=[checkpoint,early])\n",
        "\n",
        "\n",
        "# history = model.fit(train_generator, epochs=10, steps_per_epoch=10,\n",
        "                    # validation_data=validation_generator, validation_steps=6)\n",
        "#train the model\n",
        "# model.fit(train_generator, validation_data=validation_generator, epochs=50, batch_size=128)"
      ],
      "execution_count": 0,
      "outputs": [
        {
          "output_type": "stream",
          "text": [
            "Epoch 1/100\n",
            "10/10 [==============================] - 2s 196ms/step - loss: 3.0051 - accuracy: 0.2000 - val_loss: 2.2128 - val_accuracy: 0.1950\n",
            "Epoch 2/100\n",
            " 1/10 [==>...........................] - ETA: 1s - loss: 2.3445 - accuracy: 0.1500"
          ],
          "name": "stdout"
        },
        {
          "output_type": "stream",
          "text": [
            "/usr/local/lib/python3.6/dist-packages/keras/callbacks/callbacks.py:707: RuntimeWarning: Can save best model only with val_acc available, skipping.\n",
            "  'skipping.' % (self.monitor), RuntimeWarning)\n",
            "/usr/local/lib/python3.6/dist-packages/keras/callbacks/callbacks.py:846: RuntimeWarning: Early stopping conditioned on metric `val_acc` which is not available. Available metrics are: val_loss,val_accuracy,loss,accuracy\n",
            "  (self.monitor, ','.join(list(logs.keys()))), RuntimeWarning\n"
          ],
          "name": "stderr"
        },
        {
          "output_type": "stream",
          "text": [
            "10/10 [==============================] - 1s 142ms/step - loss: 2.2574 - accuracy: 0.1600 - val_loss: 2.2286 - val_accuracy: 0.1700\n",
            "Epoch 3/100\n",
            "10/10 [==============================] - 1s 144ms/step - loss: 2.2307 - accuracy: 0.1900 - val_loss: 2.1138 - val_accuracy: 0.1550\n",
            "Epoch 4/100\n",
            "10/10 [==============================] - 1s 142ms/step - loss: 2.2677 - accuracy: 0.1050 - val_loss: 2.1387 - val_accuracy: 0.2100\n",
            "Epoch 5/100\n",
            "10/10 [==============================] - 1s 148ms/step - loss: 2.2361 - accuracy: 0.1800 - val_loss: 2.1050 - val_accuracy: 0.2151\n",
            "Epoch 6/100\n",
            "10/10 [==============================] - 1s 142ms/step - loss: 2.2229 - accuracy: 0.1850 - val_loss: 2.1728 - val_accuracy: 0.1500\n",
            "Epoch 7/100\n",
            "10/10 [==============================] - 1s 144ms/step - loss: 2.2265 - accuracy: 0.2100 - val_loss: 2.2888 - val_accuracy: 0.1900\n",
            "Epoch 8/100\n",
            "10/10 [==============================] - 1s 142ms/step - loss: 2.2512 - accuracy: 0.1750 - val_loss: 2.3043 - val_accuracy: 0.2250\n",
            "Epoch 9/100\n",
            "10/10 [==============================] - 1s 140ms/step - loss: 2.1725 - accuracy: 0.2250 - val_loss: 2.2165 - val_accuracy: 0.1700\n",
            "Epoch 10/100\n",
            "10/10 [==============================] - 1s 148ms/step - loss: 2.2420 - accuracy: 0.1800 - val_loss: 2.1018 - val_accuracy: 0.1989\n",
            "Epoch 11/100\n",
            "10/10 [==============================] - 1s 142ms/step - loss: 2.2104 - accuracy: 0.1800 - val_loss: 2.1514 - val_accuracy: 0.1550\n",
            "Epoch 12/100\n",
            "10/10 [==============================] - 1s 141ms/step - loss: 2.2242 - accuracy: 0.2200 - val_loss: 2.3905 - val_accuracy: 0.1600\n",
            "Epoch 13/100\n",
            "10/10 [==============================] - 1s 143ms/step - loss: 2.1937 - accuracy: 0.1900 - val_loss: 2.0830 - val_accuracy: 0.2000\n",
            "Epoch 14/100\n",
            "10/10 [==============================] - 1s 142ms/step - loss: 2.2167 - accuracy: 0.2050 - val_loss: 2.2816 - val_accuracy: 0.2000\n",
            "Epoch 15/100\n",
            "10/10 [==============================] - 1s 149ms/step - loss: 2.2160 - accuracy: 0.1800 - val_loss: 2.4374 - val_accuracy: 0.1882\n",
            "Epoch 16/100\n",
            "10/10 [==============================] - 1s 142ms/step - loss: 2.2391 - accuracy: 0.1750 - val_loss: 2.2754 - val_accuracy: 0.1750\n",
            "Epoch 17/100\n",
            "10/10 [==============================] - 1s 143ms/step - loss: 2.1994 - accuracy: 0.1850 - val_loss: 2.1074 - val_accuracy: 0.1750\n",
            "Epoch 18/100\n",
            "10/10 [==============================] - 1s 142ms/step - loss: 2.2315 - accuracy: 0.1850 - val_loss: 2.2529 - val_accuracy: 0.1800\n",
            "Epoch 19/100\n",
            "10/10 [==============================] - 1s 148ms/step - loss: 2.2145 - accuracy: 0.2050 - val_loss: 2.2521 - val_accuracy: 0.2151\n",
            "Epoch 20/100\n",
            "10/10 [==============================] - 1s 138ms/step - loss: 2.1924 - accuracy: 0.1774 - val_loss: 2.2379 - val_accuracy: 0.2250\n",
            "Epoch 21/100\n",
            "10/10 [==============================] - 1s 142ms/step - loss: 2.1688 - accuracy: 0.2100 - val_loss: 2.0942 - val_accuracy: 0.1850\n",
            "Epoch 22/100\n",
            "10/10 [==============================] - 1s 142ms/step - loss: 2.1999 - accuracy: 0.1800 - val_loss: 2.2238 - val_accuracy: 0.1500\n",
            "Epoch 23/100\n",
            "10/10 [==============================] - 1s 142ms/step - loss: 2.2357 - accuracy: 0.1650 - val_loss: 2.1745 - val_accuracy: 0.1950\n",
            "Epoch 24/100\n",
            "10/10 [==============================] - 1s 148ms/step - loss: 2.2219 - accuracy: 0.1850 - val_loss: 2.3348 - val_accuracy: 0.1398\n",
            "Epoch 25/100\n",
            "10/10 [==============================] - 1s 143ms/step - loss: 2.2319 - accuracy: 0.1800 - val_loss: 2.1490 - val_accuracy: 0.1700\n",
            "Epoch 26/100\n",
            "10/10 [==============================] - 1s 144ms/step - loss: 2.2412 - accuracy: 0.1900 - val_loss: 2.1496 - val_accuracy: 0.2100\n",
            "Epoch 27/100\n",
            "10/10 [==============================] - 1s 141ms/step - loss: 2.2276 - accuracy: 0.2000 - val_loss: 2.2809 - val_accuracy: 0.1600\n",
            "Epoch 28/100\n",
            "10/10 [==============================] - 1s 143ms/step - loss: 2.1676 - accuracy: 0.2450 - val_loss: 2.0958 - val_accuracy: 0.2150\n",
            "Epoch 29/100\n",
            "10/10 [==============================] - 1s 148ms/step - loss: 2.1519 - accuracy: 0.2300 - val_loss: 2.1552 - val_accuracy: 0.2258\n",
            "Epoch 30/100\n",
            "10/10 [==============================] - 1s 142ms/step - loss: 2.2066 - accuracy: 0.1600 - val_loss: 2.2144 - val_accuracy: 0.1700\n",
            "Epoch 31/100\n",
            "10/10 [==============================] - 1s 142ms/step - loss: 2.1945 - accuracy: 0.1950 - val_loss: 2.2955 - val_accuracy: 0.1500\n",
            "Epoch 32/100\n",
            "10/10 [==============================] - 1s 142ms/step - loss: 2.2482 - accuracy: 0.1400 - val_loss: 2.1499 - val_accuracy: 0.1750\n",
            "Epoch 33/100\n",
            "10/10 [==============================] - 1s 148ms/step - loss: 2.2135 - accuracy: 0.1950 - val_loss: 2.2306 - val_accuracy: 0.2258\n",
            "Epoch 34/100\n",
            "10/10 [==============================] - 1s 143ms/step - loss: 2.2652 - accuracy: 0.1600 - val_loss: 2.2728 - val_accuracy: 0.1900\n",
            "Epoch 35/100\n",
            "10/10 [==============================] - 1s 143ms/step - loss: 2.2137 - accuracy: 0.1650 - val_loss: 2.2846 - val_accuracy: 0.1750\n",
            "Epoch 36/100\n",
            "10/10 [==============================] - 1s 142ms/step - loss: 2.1523 - accuracy: 0.1800 - val_loss: 2.0112 - val_accuracy: 0.1950\n",
            "Epoch 37/100\n",
            "10/10 [==============================] - 1s 143ms/step - loss: 2.2768 - accuracy: 0.1800 - val_loss: 1.9899 - val_accuracy: 0.2600\n",
            "Epoch 38/100\n",
            "10/10 [==============================] - 1s 148ms/step - loss: 2.1833 - accuracy: 0.1900 - val_loss: 2.2134 - val_accuracy: 0.1398\n",
            "Epoch 39/100\n",
            "10/10 [==============================] - 1s 142ms/step - loss: 2.1985 - accuracy: 0.1650 - val_loss: 2.4367 - val_accuracy: 0.2050\n",
            "Epoch 40/100\n",
            "10/10 [==============================] - 1s 142ms/step - loss: 2.2470 - accuracy: 0.1800 - val_loss: 2.2598 - val_accuracy: 0.2100\n",
            "Epoch 41/100\n",
            "10/10 [==============================] - 1s 140ms/step - loss: 2.2497 - accuracy: 0.1100 - val_loss: 2.1693 - val_accuracy: 0.1650\n",
            "Epoch 42/100\n",
            "10/10 [==============================] - 1s 141ms/step - loss: 2.1023 - accuracy: 0.2300 - val_loss: 2.2487 - val_accuracy: 0.2000\n",
            "Epoch 43/100\n",
            "10/10 [==============================] - 1s 148ms/step - loss: 2.2195 - accuracy: 0.2000 - val_loss: 2.2820 - val_accuracy: 0.1237\n",
            "Epoch 44/100\n",
            "10/10 [==============================] - 1s 141ms/step - loss: 2.2240 - accuracy: 0.1550 - val_loss: 2.3087 - val_accuracy: 0.1400\n",
            "Epoch 45/100\n",
            "10/10 [==============================] - 1s 143ms/step - loss: 2.1903 - accuracy: 0.1800 - val_loss: 2.1530 - val_accuracy: 0.1450\n",
            "Epoch 46/100\n",
            "10/10 [==============================] - 1s 141ms/step - loss: 2.1971 - accuracy: 0.1600 - val_loss: 2.1869 - val_accuracy: 0.1650\n",
            "Epoch 47/100\n",
            "10/10 [==============================] - 1s 140ms/step - loss: 2.1787 - accuracy: 0.1850 - val_loss: 2.1793 - val_accuracy: 0.2473\n",
            "Epoch 48/100\n",
            "10/10 [==============================] - 1s 142ms/step - loss: 2.0595 - accuracy: 0.2500 - val_loss: 2.1413 - val_accuracy: 0.2600\n",
            "Epoch 49/100\n",
            "10/10 [==============================] - 1s 142ms/step - loss: 1.8869 - accuracy: 0.3200 - val_loss: 2.2265 - val_accuracy: 0.2850\n",
            "Epoch 50/100\n",
            "10/10 [==============================] - 1s 142ms/step - loss: 2.0424 - accuracy: 0.2600 - val_loss: 2.0503 - val_accuracy: 0.1900\n",
            "Epoch 51/100\n",
            "10/10 [==============================] - 1s 141ms/step - loss: 2.0750 - accuracy: 0.2800 - val_loss: 2.2259 - val_accuracy: 0.2600\n",
            "Epoch 52/100\n",
            "10/10 [==============================] - 1s 148ms/step - loss: 2.0831 - accuracy: 0.2800 - val_loss: 1.7904 - val_accuracy: 0.3387\n",
            "Epoch 53/100\n",
            "10/10 [==============================] - 1s 141ms/step - loss: 1.8544 - accuracy: 0.3600 - val_loss: 2.0027 - val_accuracy: 0.3500\n",
            "Epoch 54/100\n",
            "10/10 [==============================] - 1s 143ms/step - loss: 1.7320 - accuracy: 0.3400 - val_loss: 2.0679 - val_accuracy: 0.2850\n",
            "Epoch 55/100\n",
            "10/10 [==============================] - 1s 145ms/step - loss: 1.8049 - accuracy: 0.3000 - val_loss: 2.2433 - val_accuracy: 0.2050\n",
            "Epoch 56/100\n",
            "10/10 [==============================] - 1s 143ms/step - loss: 1.6789 - accuracy: 0.3950 - val_loss: 1.7760 - val_accuracy: 0.3950\n",
            "Epoch 57/100\n",
            "10/10 [==============================] - 1s 148ms/step - loss: 1.7604 - accuracy: 0.3400 - val_loss: 1.9541 - val_accuracy: 0.3656\n",
            "Epoch 58/100\n",
            "10/10 [==============================] - 1s 141ms/step - loss: 1.6676 - accuracy: 0.3400 - val_loss: 1.5126 - val_accuracy: 0.4150\n",
            "Epoch 59/100\n",
            "10/10 [==============================] - 1s 142ms/step - loss: 1.6044 - accuracy: 0.3650 - val_loss: 1.7285 - val_accuracy: 0.3300\n",
            "Epoch 60/100\n",
            "10/10 [==============================] - 1s 142ms/step - loss: 1.6716 - accuracy: 0.4250 - val_loss: 1.7892 - val_accuracy: 0.2850\n",
            "Epoch 61/100\n",
            "10/10 [==============================] - 1s 140ms/step - loss: 2.1071 - accuracy: 0.2650 - val_loss: 1.8039 - val_accuracy: 0.2700\n",
            "Epoch 62/100\n",
            "10/10 [==============================] - 1s 139ms/step - loss: 1.8572 - accuracy: 0.3050 - val_loss: 1.8750 - val_accuracy: 0.3280\n",
            "Epoch 63/100\n",
            "10/10 [==============================] - 1s 142ms/step - loss: 1.7235 - accuracy: 0.3900 - val_loss: 1.5028 - val_accuracy: 0.4000\n",
            "Epoch 64/100\n",
            "10/10 [==============================] - 1s 143ms/step - loss: 1.5669 - accuracy: 0.4750 - val_loss: 1.8435 - val_accuracy: 0.3650\n",
            "Epoch 65/100\n",
            "10/10 [==============================] - 1s 140ms/step - loss: 1.6908 - accuracy: 0.3750 - val_loss: 1.7592 - val_accuracy: 0.4150\n",
            "Epoch 66/100\n",
            "10/10 [==============================] - 1s 148ms/step - loss: 1.5647 - accuracy: 0.4450 - val_loss: 1.7024 - val_accuracy: 0.4409\n",
            "Epoch 67/100\n",
            "10/10 [==============================] - 1s 140ms/step - loss: 1.6182 - accuracy: 0.4250 - val_loss: 1.6834 - val_accuracy: 0.4650\n",
            "Epoch 68/100\n",
            "10/10 [==============================] - 1s 141ms/step - loss: 1.6044 - accuracy: 0.3950 - val_loss: 1.6548 - val_accuracy: 0.4550\n",
            "Epoch 69/100\n",
            "10/10 [==============================] - 1s 140ms/step - loss: 1.7006 - accuracy: 0.4350 - val_loss: 1.3963 - val_accuracy: 0.3200\n",
            "Epoch 70/100\n",
            "10/10 [==============================] - 1s 140ms/step - loss: 1.6348 - accuracy: 0.3300 - val_loss: 1.7029 - val_accuracy: 0.4300\n",
            "Epoch 71/100\n",
            "10/10 [==============================] - 1s 148ms/step - loss: 1.5769 - accuracy: 0.4450 - val_loss: 1.3292 - val_accuracy: 0.5054\n",
            "Epoch 72/100\n",
            "10/10 [==============================] - 1s 138ms/step - loss: 1.4161 - accuracy: 0.4677 - val_loss: 1.6360 - val_accuracy: 0.5100\n",
            "Epoch 73/100\n",
            "10/10 [==============================] - 1s 141ms/step - loss: 1.4181 - accuracy: 0.5450 - val_loss: 1.4550 - val_accuracy: 0.4700\n",
            "Epoch 74/100\n",
            "10/10 [==============================] - 1s 142ms/step - loss: 1.5336 - accuracy: 0.4500 - val_loss: 0.8822 - val_accuracy: 0.4850\n",
            "Epoch 75/100\n",
            "10/10 [==============================] - 1s 141ms/step - loss: 1.4685 - accuracy: 0.4950 - val_loss: 1.7028 - val_accuracy: 0.4600\n",
            "Epoch 76/100\n",
            "10/10 [==============================] - 1s 148ms/step - loss: 1.4026 - accuracy: 0.5350 - val_loss: 1.4296 - val_accuracy: 0.4301\n",
            "Epoch 77/100\n",
            "10/10 [==============================] - 1s 140ms/step - loss: 1.5008 - accuracy: 0.4550 - val_loss: 1.1978 - val_accuracy: 0.5350\n",
            "Epoch 78/100\n",
            "10/10 [==============================] - 1s 141ms/step - loss: 1.3529 - accuracy: 0.5450 - val_loss: 1.4942 - val_accuracy: 0.5150\n",
            "Epoch 79/100\n",
            "10/10 [==============================] - 1s 141ms/step - loss: 1.3227 - accuracy: 0.5250 - val_loss: 1.1382 - val_accuracy: 0.5700\n",
            "Epoch 80/100\n",
            "10/10 [==============================] - 1s 138ms/step - loss: 1.3579 - accuracy: 0.5300 - val_loss: 0.7453 - val_accuracy: 0.5323\n",
            "Epoch 81/100\n",
            "10/10 [==============================] - 1s 141ms/step - loss: 1.6231 - accuracy: 0.4400 - val_loss: 1.2586 - val_accuracy: 0.5500\n",
            "Epoch 82/100\n",
            "10/10 [==============================] - 1s 140ms/step - loss: 1.4342 - accuracy: 0.5200 - val_loss: 1.5923 - val_accuracy: 0.4950\n",
            "Epoch 83/100\n",
            "10/10 [==============================] - 1s 140ms/step - loss: 1.3523 - accuracy: 0.5300 - val_loss: 1.3540 - val_accuracy: 0.5500\n",
            "Epoch 84/100\n",
            "10/10 [==============================] - 1s 140ms/step - loss: 1.2800 - accuracy: 0.5400 - val_loss: 1.3634 - val_accuracy: 0.5300\n",
            "Epoch 85/100\n",
            "10/10 [==============================] - 1s 148ms/step - loss: 1.2210 - accuracy: 0.5700 - val_loss: 1.1939 - val_accuracy: 0.6183\n",
            "Epoch 86/100\n",
            "10/10 [==============================] - 1s 142ms/step - loss: 1.4321 - accuracy: 0.4400 - val_loss: 1.4817 - val_accuracy: 0.4950\n",
            "Epoch 87/100\n",
            "10/10 [==============================] - 1s 141ms/step - loss: 1.3422 - accuracy: 0.5650 - val_loss: 1.2391 - val_accuracy: 0.5700\n",
            "Epoch 88/100\n",
            "10/10 [==============================] - 1s 141ms/step - loss: 1.2375 - accuracy: 0.5450 - val_loss: 2.0390 - val_accuracy: 0.6050\n",
            "Epoch 89/100\n",
            "10/10 [==============================] - 1s 141ms/step - loss: 1.1899 - accuracy: 0.6000 - val_loss: 1.3021 - val_accuracy: 0.5350\n",
            "Epoch 90/100\n",
            "10/10 [==============================] - 1s 148ms/step - loss: 1.2463 - accuracy: 0.5950 - val_loss: 1.0436 - val_accuracy: 0.5269\n",
            "Epoch 91/100\n",
            "10/10 [==============================] - 1s 142ms/step - loss: 1.3272 - accuracy: 0.5600 - val_loss: 1.1807 - val_accuracy: 0.5750\n",
            "Epoch 92/100\n",
            "10/10 [==============================] - 1s 142ms/step - loss: 1.1763 - accuracy: 0.5650 - val_loss: 1.0679 - val_accuracy: 0.5800\n",
            "Epoch 93/100\n",
            "10/10 [==============================] - 1s 142ms/step - loss: 1.1354 - accuracy: 0.6350 - val_loss: 0.9044 - val_accuracy: 0.7150\n",
            "Epoch 94/100\n",
            "10/10 [==============================] - 1s 139ms/step - loss: 1.2707 - accuracy: 0.5600 - val_loss: 1.1560 - val_accuracy: 0.6075\n",
            "Epoch 95/100\n",
            "10/10 [==============================] - 1s 141ms/step - loss: 1.1645 - accuracy: 0.6000 - val_loss: 1.1957 - val_accuracy: 0.6150\n",
            "Epoch 96/100\n",
            "10/10 [==============================] - 1s 141ms/step - loss: 1.1317 - accuracy: 0.6000 - val_loss: 1.2521 - val_accuracy: 0.6100\n",
            "Epoch 97/100\n",
            "10/10 [==============================] - 1s 141ms/step - loss: 1.1580 - accuracy: 0.6450 - val_loss: 1.2009 - val_accuracy: 0.6150\n",
            "Epoch 98/100\n",
            "10/10 [==============================] - 1s 142ms/step - loss: 1.1289 - accuracy: 0.6100 - val_loss: 1.6782 - val_accuracy: 0.6200\n",
            "Epoch 99/100\n",
            "10/10 [==============================] - 1s 148ms/step - loss: 1.0984 - accuracy: 0.6150 - val_loss: 1.0387 - val_accuracy: 0.6075\n",
            "Epoch 100/100\n",
            "10/10 [==============================] - 1s 141ms/step - loss: 1.1311 - accuracy: 0.6350 - val_loss: 1.9323 - val_accuracy: 0.5450\n"
          ],
          "name": "stdout"
        }
      ]
    },
    {
      "cell_type": "markdown",
      "metadata": {
        "id": "HDHzB-3hjESb",
        "colab_type": "text"
      },
      "source": [
        "###Se crea el conjunto de test"
      ]
    },
    {
      "cell_type": "code",
      "metadata": {
        "id": "7q3I7o2VWpZo",
        "colab_type": "code",
        "colab": {}
      },
      "source": [
        "nombres = [f'/tmp/test_images/test_{i}.jpg' for i in range(1023)]\n",
        "\n",
        "X_test = np.array([np.array(Image.open(fname)) for fname in nombres])\n",
        "X_test = X_test/255.0"
      ],
      "execution_count": 0,
      "outputs": []
    },
    {
      "cell_type": "markdown",
      "metadata": {
        "id": "GO1nz0AAjJ_7",
        "colab_type": "text"
      },
      "source": [
        "###Se realizan las predicciones para el conjunto de test"
      ]
    },
    {
      "cell_type": "code",
      "metadata": {
        "id": "xr061KoAbtAW",
        "colab_type": "code",
        "colab": {}
      },
      "source": [
        "test_predictions = model.predict_classes(X_test)\n",
        "\n",
        "mylist = os.listdir('/tmp/output/train/')\n",
        "mylist.sort()\n",
        "predicciones = [mylist[i] for i in model.predict_classes(X_test)]"
      ],
      "execution_count": 0,
      "outputs": []
    },
    {
      "cell_type": "markdown",
      "metadata": {
        "id": "hwAbq6o6jNKR",
        "colab_type": "text"
      },
      "source": [
        "###Se guardan las predicciones del conjunto de test en un CSV"
      ]
    },
    {
      "cell_type": "code",
      "metadata": {
        "id": "y6hI0fiAfRdt",
        "colab_type": "code",
        "colab": {}
      },
      "source": [
        "nombres = [f'test_{i}' for i in range(1023)]\n",
        "nombres.insert(0, 'Id')\n",
        "predicciones.insert(0, 'Expected')\n",
        "with open('test_FF.csv', 'w') as f:\n",
        "    writer = csv.writer(f)\n",
        "    writer.writerows(zip(nombres, predicciones))"
      ],
      "execution_count": 0,
      "outputs": []
    },
    {
      "cell_type": "markdown",
      "metadata": {
        "id": "1kDGJTy2VCgM",
        "colab_type": "text"
      },
      "source": [
        "## Uso de red pre-entrenada para extracción de caracteristicas."
      ]
    },
    {
      "cell_type": "code",
      "metadata": {
        "id": "CXX5cNMASwg1",
        "colab_type": "code",
        "outputId": "90fb01db-c9f2-4b55-96c2-1c0e93bc77de",
        "colab": {
          "base_uri": "https://localhost:8080/",
          "height": 53
        }
      },
      "source": [
        "from keras.applications import ResNet152V2 \n",
        "\n",
        "pre_trained_model = ResNet152V2(\n",
        "    input_shape=(128, 128, 3),\n",
        "    weights='imagenet',\n",
        "    include_top=False\n",
        "    )"
      ],
      "execution_count": 0,
      "outputs": [
        {
          "output_type": "stream",
          "text": [
            "Downloading data from https://github.com/keras-team/keras-applications/releases/download/resnet/resnet152v2_weights_tf_dim_ordering_tf_kernels_notop.h5\n",
            "234553344/234545216 [==============================] - 18s 0us/step\n"
          ],
          "name": "stdout"
        }
      ]
    },
    {
      "cell_type": "markdown",
      "metadata": {
        "id": "u5Ez6rKhZ2NJ",
        "colab_type": "text"
      },
      "source": [
        "### Se extraen las caracteristicas del conjunto de train y validacion."
      ]
    },
    {
      "cell_type": "code",
      "metadata": {
        "id": "VhgrGueSM5az",
        "colab_type": "code",
        "outputId": "44a43d4c-c8e6-4dd2-d11e-9fb02df02235",
        "colab": {
          "base_uri": "https://localhost:8080/",
          "height": 71
        }
      },
      "source": [
        "datagen = ImageDataGenerator(rescale=1./255)\n",
        "batch_size = 64\n",
        "\n",
        "def extract_features(directory, sample_count):\n",
        "    features = np.zeros(shape=(sample_count, 4,4,2048))\n",
        "    labels = np.zeros(shape=(sample_count,10))\n",
        "    generator = datagen.flow_from_directory(\n",
        "        directory,\n",
        "        target_size=(128, 128),\n",
        "        batch_size=batch_size,\n",
        "        class_mode='categorical')\n",
        "    \n",
        "    i = 0\n",
        "    for inputs_batch, labels_batch in generator:\n",
        "        features_batch = pre_trained_model.predict(inputs_batch)\n",
        "        features[i * batch_size : (i + 1) * batch_size] = features_batch\n",
        "        labels[i * batch_size : (i + 1) * batch_size] = labels_batch\n",
        "        i += 1\n",
        "        if i * batch_size >= sample_count:\n",
        "            # Note that since generators yield data indefinitely in a loop,\n",
        "            # we must `break` after every image has been seen once.\n",
        "            break\n",
        "    return features, labels\n",
        "\n",
        "train_features, train_labels = extract_features(TRAINING_DIR, 8286 )\n",
        "validation_features, validation_labels = extract_features(VALIDATION_DIR, 926 )\n",
        "final_features, final_labels = extract_features('/tmp/train_sep/',9212)"
      ],
      "execution_count": 0,
      "outputs": [
        {
          "output_type": "stream",
          "text": [
            "Found 8286 images belonging to 10 classes.\n",
            "Found 926 images belonging to 10 classes.\n",
            "Found 9212 images belonging to 10 classes.\n"
          ],
          "name": "stdout"
        }
      ]
    },
    {
      "cell_type": "code",
      "metadata": {
        "id": "CVkDtXrrSh79",
        "colab_type": "code",
        "colab": {}
      },
      "source": [
        "train_features = np.reshape(train_features, (8286,4*4*2048))\n",
        "validation_features = np.reshape(validation_features, (926, 4*4*2048))\n",
        "final_features = np.reshape(final_features, (9212, 4*4*2048))"
      ],
      "execution_count": 0,
      "outputs": []
    },
    {
      "cell_type": "markdown",
      "metadata": {
        "id": "Y5twuk6iaC0S",
        "colab_type": "text"
      },
      "source": [
        "### Red FF que trabaja con las caracteristicas."
      ]
    },
    {
      "cell_type": "code",
      "metadata": {
        "id": "hnqEyaVsgBV1",
        "colab_type": "code",
        "colab": {}
      },
      "source": [
        "from keras.models import Sequential\n",
        "from keras.layers import Dense, Conv2D, Flatten, MaxPool2D\n",
        "from keras.layers import Dropout\n",
        "from keras.layers import SpatialDropout2D\n",
        "from keras import optimizers\n",
        "\n",
        "model = Sequential()\n",
        "\n",
        "model.add(Dense(128, activation='relu', input_dim=4*4*2048))\n",
        "model.add(Dropout(0.2))\n",
        "\n",
        "model.add(Dense(64, activation='relu'))\n",
        "\n",
        "model.add(Dense(10, activation='softmax'))\n",
        "\n",
        "model.compile(optimizer=optimizers.Adam(),\n",
        "              loss='categorical_crossentropy',\n",
        "              metrics=['acc'])\n"
      ],
      "execution_count": 0,
      "outputs": []
    },
    {
      "cell_type": "code",
      "metadata": {
        "id": "hEycBeohf6yx",
        "colab_type": "code",
        "outputId": "ad861080-d51a-4fd8-a21d-6d0185df50aa",
        "colab": {
          "base_uri": "https://localhost:8080/",
          "height": 305
        }
      },
      "source": [
        "model.summary()"
      ],
      "execution_count": 0,
      "outputs": [
        {
          "output_type": "stream",
          "text": [
            "Model: \"sequential_8\"\n",
            "_________________________________________________________________\n",
            "Layer (type)                 Output Shape              Param #   \n",
            "=================================================================\n",
            "dense_16 (Dense)             (None, 128)               4194432   \n",
            "_________________________________________________________________\n",
            "dropout_2 (Dropout)          (None, 128)               0         \n",
            "_________________________________________________________________\n",
            "dense_17 (Dense)             (None, 64)                8256      \n",
            "_________________________________________________________________\n",
            "dense_18 (Dense)             (None, 10)                650       \n",
            "=================================================================\n",
            "Total params: 4,203,338\n",
            "Trainable params: 4,203,338\n",
            "Non-trainable params: 0\n",
            "_________________________________________________________________\n"
          ],
          "name": "stdout"
        }
      ]
    },
    {
      "cell_type": "code",
      "metadata": {
        "id": "2x7HQAZXNOus",
        "colab_type": "code",
        "outputId": "956e2422-7ce8-44be-870e-ac89476d7cd8",
        "colab": {
          "base_uri": "https://localhost:8080/",
          "height": 1000
        }
      },
      "source": [
        "from keras.callbacks import ModelCheckpoint, EarlyStopping\n",
        "checkpoint = ModelCheckpoint(\"resnet_final.h5\", monitor='val_acc', verbose=1, save_best_only=True, save_weights_only=False, mode='auto', period=1)\n",
        "early = EarlyStopping(monitor='val_acc', min_delta=0, patience=20, verbose=1, mode='auto')\n",
        "\n",
        "history = model.fit(train_features, train_labels,\n",
        "                    epochs=150,\n",
        "                    batch_size=64,\n",
        "                    validation_data=(validation_features, validation_labels),\n",
        "                    class_weight = 'auto',\n",
        "                    callbacks=[checkpoint,early]\n",
        "                    )\n",
        "\n",
        "#Ejecutar luego de tener un modelo definitivo\n",
        "# history = model.fit(final_features, final_labels,\n",
        "#                     epochs=50,\n",
        "#                     batch_size=64)"
      ],
      "execution_count": 0,
      "outputs": [
        {
          "output_type": "stream",
          "text": [
            "Train on 8286 samples, validate on 926 samples\n",
            "Epoch 1/150\n",
            "8286/8286 [==============================] - 2s 257us/step - loss: 0.7040 - acc: 0.8248 - val_loss: 0.3436 - val_acc: 0.9104\n",
            "\n",
            "Epoch 00001: val_acc improved from -inf to 0.91037, saving model to resnet_final.h5\n",
            "Epoch 2/150\n",
            "8286/8286 [==============================] - 2s 238us/step - loss: 0.2669 - acc: 0.9200 - val_loss: 0.3226 - val_acc: 0.8985\n",
            "\n",
            "Epoch 00002: val_acc did not improve from 0.91037\n",
            "Epoch 3/150\n",
            "8286/8286 [==============================] - 2s 241us/step - loss: 0.1654 - acc: 0.9475 - val_loss: 0.2989 - val_acc: 0.9276\n",
            "\n",
            "Epoch 00003: val_acc improved from 0.91037 to 0.92765, saving model to resnet_final.h5\n",
            "Epoch 4/150\n",
            "8286/8286 [==============================] - 2s 251us/step - loss: 0.1307 - acc: 0.9636 - val_loss: 0.3090 - val_acc: 0.9266\n",
            "\n",
            "Epoch 00004: val_acc did not improve from 0.92765\n",
            "Epoch 5/150\n",
            "8286/8286 [==============================] - 2s 245us/step - loss: 0.1085 - acc: 0.9689 - val_loss: 0.2781 - val_acc: 0.9363\n",
            "\n",
            "Epoch 00005: val_acc improved from 0.92765 to 0.93629, saving model to resnet_final.h5\n",
            "Epoch 6/150\n",
            "8286/8286 [==============================] - 2s 247us/step - loss: 0.0767 - acc: 0.9778 - val_loss: 0.4125 - val_acc: 0.9212\n",
            "\n",
            "Epoch 00006: val_acc did not improve from 0.93629\n",
            "Epoch 7/150\n",
            "8286/8286 [==============================] - 2s 244us/step - loss: 0.0896 - acc: 0.9751 - val_loss: 0.3820 - val_acc: 0.9287\n",
            "\n",
            "Epoch 00007: val_acc did not improve from 0.93629\n",
            "Epoch 8/150\n",
            "8286/8286 [==============================] - 2s 245us/step - loss: 0.0565 - acc: 0.9830 - val_loss: 0.4130 - val_acc: 0.9287\n",
            "\n",
            "Epoch 00008: val_acc did not improve from 0.93629\n",
            "Epoch 9/150\n",
            "8286/8286 [==============================] - 2s 244us/step - loss: 0.0529 - acc: 0.9849 - val_loss: 0.4419 - val_acc: 0.9255\n",
            "\n",
            "Epoch 00009: val_acc did not improve from 0.93629\n",
            "Epoch 10/150\n",
            "8286/8286 [==============================] - 2s 244us/step - loss: 0.0702 - acc: 0.9839 - val_loss: 0.3547 - val_acc: 0.9320\n",
            "\n",
            "Epoch 00010: val_acc did not improve from 0.93629\n",
            "Epoch 11/150\n",
            "8286/8286 [==============================] - 2s 243us/step - loss: 0.0490 - acc: 0.9860 - val_loss: 0.4288 - val_acc: 0.9341\n",
            "\n",
            "Epoch 00011: val_acc did not improve from 0.93629\n",
            "Epoch 12/150\n",
            "8286/8286 [==============================] - 2s 243us/step - loss: 0.0532 - acc: 0.9872 - val_loss: 0.4145 - val_acc: 0.9309\n",
            "\n",
            "Epoch 00012: val_acc did not improve from 0.93629\n",
            "Epoch 13/150\n",
            "8286/8286 [==============================] - 2s 241us/step - loss: 0.0504 - acc: 0.9876 - val_loss: 0.4313 - val_acc: 0.9320\n",
            "\n",
            "Epoch 00013: val_acc did not improve from 0.93629\n",
            "Epoch 14/150\n",
            "8286/8286 [==============================] - 2s 239us/step - loss: 0.0598 - acc: 0.9848 - val_loss: 0.3710 - val_acc: 0.9341\n",
            "\n",
            "Epoch 00014: val_acc did not improve from 0.93629\n",
            "Epoch 15/150\n",
            "8286/8286 [==============================] - 2s 241us/step - loss: 0.0570 - acc: 0.9833 - val_loss: 0.3600 - val_acc: 0.9341\n",
            "\n",
            "Epoch 00015: val_acc did not improve from 0.93629\n",
            "Epoch 16/150\n",
            "8286/8286 [==============================] - 2s 235us/step - loss: 0.0812 - acc: 0.9827 - val_loss: 0.4373 - val_acc: 0.9363\n",
            "\n",
            "Epoch 00016: val_acc did not improve from 0.93629\n",
            "Epoch 17/150\n",
            "8286/8286 [==============================] - 2s 236us/step - loss: 0.0964 - acc: 0.9780 - val_loss: 0.4668 - val_acc: 0.9276\n",
            "\n",
            "Epoch 00017: val_acc did not improve from 0.93629\n",
            "Epoch 18/150\n",
            "8286/8286 [==============================] - 2s 240us/step - loss: 0.0744 - acc: 0.9849 - val_loss: 0.4006 - val_acc: 0.9428\n",
            "\n",
            "Epoch 00018: val_acc improved from 0.93629 to 0.94276, saving model to resnet_final.h5\n",
            "Epoch 19/150\n",
            "8286/8286 [==============================] - 2s 242us/step - loss: 0.0481 - acc: 0.9884 - val_loss: 0.3885 - val_acc: 0.9384\n",
            "\n",
            "Epoch 00019: val_acc did not improve from 0.94276\n",
            "Epoch 20/150\n",
            "8286/8286 [==============================] - 2s 238us/step - loss: 0.0433 - acc: 0.9909 - val_loss: 0.6414 - val_acc: 0.9125\n",
            "\n",
            "Epoch 00020: val_acc did not improve from 0.94276\n",
            "Epoch 21/150\n",
            "8286/8286 [==============================] - 2s 244us/step - loss: 0.0442 - acc: 0.9896 - val_loss: 0.3991 - val_acc: 0.9449\n",
            "\n",
            "Epoch 00021: val_acc improved from 0.94276 to 0.94492, saving model to resnet_final.h5\n",
            "Epoch 22/150\n",
            "8286/8286 [==============================] - 2s 248us/step - loss: 0.0521 - acc: 0.9894 - val_loss: 0.4919 - val_acc: 0.9395\n",
            "\n",
            "Epoch 00022: val_acc did not improve from 0.94492\n",
            "Epoch 23/150\n",
            "8286/8286 [==============================] - 2s 238us/step - loss: 0.0522 - acc: 0.9889 - val_loss: 0.5209 - val_acc: 0.9320\n",
            "\n",
            "Epoch 00023: val_acc did not improve from 0.94492\n",
            "Epoch 24/150\n",
            "8286/8286 [==============================] - 2s 238us/step - loss: 0.0427 - acc: 0.9907 - val_loss: 0.5033 - val_acc: 0.9320\n",
            "\n",
            "Epoch 00024: val_acc did not improve from 0.94492\n",
            "Epoch 25/150\n",
            "8286/8286 [==============================] - 2s 238us/step - loss: 0.0336 - acc: 0.9923 - val_loss: 0.5127 - val_acc: 0.9406\n",
            "\n",
            "Epoch 00025: val_acc did not improve from 0.94492\n",
            "Epoch 26/150\n",
            "8286/8286 [==============================] - 2s 238us/step - loss: 0.0415 - acc: 0.9889 - val_loss: 0.4778 - val_acc: 0.9417\n",
            "\n",
            "Epoch 00026: val_acc did not improve from 0.94492\n",
            "Epoch 27/150\n",
            "8286/8286 [==============================] - 2s 235us/step - loss: 0.0399 - acc: 0.9918 - val_loss: 0.4875 - val_acc: 0.9428\n",
            "\n",
            "Epoch 00027: val_acc did not improve from 0.94492\n",
            "Epoch 28/150\n",
            "8286/8286 [==============================] - 2s 238us/step - loss: 0.0420 - acc: 0.9895 - val_loss: 0.5631 - val_acc: 0.9406\n",
            "\n",
            "Epoch 00028: val_acc did not improve from 0.94492\n",
            "Epoch 29/150\n",
            "8286/8286 [==============================] - 2s 236us/step - loss: 0.0376 - acc: 0.9914 - val_loss: 0.5602 - val_acc: 0.9449\n",
            "\n",
            "Epoch 00029: val_acc did not improve from 0.94492\n",
            "Epoch 30/150\n",
            "8286/8286 [==============================] - 2s 237us/step - loss: 0.0359 - acc: 0.9896 - val_loss: 0.5371 - val_acc: 0.9341\n",
            "\n",
            "Epoch 00030: val_acc did not improve from 0.94492\n",
            "Epoch 31/150\n",
            "8286/8286 [==============================] - 2s 242us/step - loss: 0.0318 - acc: 0.9908 - val_loss: 0.4848 - val_acc: 0.9428\n",
            "\n",
            "Epoch 00031: val_acc did not improve from 0.94492\n",
            "Epoch 32/150\n",
            "8286/8286 [==============================] - 2s 239us/step - loss: 0.0414 - acc: 0.9924 - val_loss: 0.5220 - val_acc: 0.9406\n",
            "\n",
            "Epoch 00032: val_acc did not improve from 0.94492\n",
            "Epoch 33/150\n",
            "8286/8286 [==============================] - 2s 236us/step - loss: 0.0323 - acc: 0.9924 - val_loss: 0.6903 - val_acc: 0.9341\n",
            "\n",
            "Epoch 00033: val_acc did not improve from 0.94492\n",
            "Epoch 34/150\n",
            "8286/8286 [==============================] - 2s 238us/step - loss: 0.0404 - acc: 0.9911 - val_loss: 0.6541 - val_acc: 0.9330\n",
            "\n",
            "Epoch 00034: val_acc did not improve from 0.94492\n",
            "Epoch 35/150\n",
            "8286/8286 [==============================] - 2s 237us/step - loss: 0.0471 - acc: 0.9896 - val_loss: 0.5418 - val_acc: 0.9438\n",
            "\n",
            "Epoch 00035: val_acc did not improve from 0.94492\n",
            "Epoch 36/150\n",
            "8286/8286 [==============================] - 2s 239us/step - loss: 0.0655 - acc: 0.9888 - val_loss: 0.4864 - val_acc: 0.9460\n",
            "\n",
            "Epoch 00036: val_acc improved from 0.94492 to 0.94600, saving model to resnet_final.h5\n",
            "Epoch 37/150\n",
            "8286/8286 [==============================] - 2s 243us/step - loss: 0.0384 - acc: 0.9917 - val_loss: 0.5669 - val_acc: 0.9287\n",
            "\n",
            "Epoch 00037: val_acc did not improve from 0.94600\n",
            "Epoch 38/150\n",
            "8286/8286 [==============================] - 2s 239us/step - loss: 0.0385 - acc: 0.9906 - val_loss: 0.7327 - val_acc: 0.9276\n",
            "\n",
            "Epoch 00038: val_acc did not improve from 0.94600\n",
            "Epoch 39/150\n",
            "8286/8286 [==============================] - 2s 243us/step - loss: 0.0556 - acc: 0.9903 - val_loss: 0.8334 - val_acc: 0.9255\n",
            "\n",
            "Epoch 00039: val_acc did not improve from 0.94600\n",
            "Epoch 40/150\n",
            "8286/8286 [==============================] - 2s 242us/step - loss: 0.0407 - acc: 0.9907 - val_loss: 0.6368 - val_acc: 0.9309\n",
            "\n",
            "Epoch 00040: val_acc did not improve from 0.94600\n",
            "Epoch 41/150\n",
            "8286/8286 [==============================] - 2s 241us/step - loss: 0.0350 - acc: 0.9929 - val_loss: 0.5625 - val_acc: 0.9374\n",
            "\n",
            "Epoch 00041: val_acc did not improve from 0.94600\n",
            "Epoch 42/150\n",
            "8286/8286 [==============================] - 2s 239us/step - loss: 0.0287 - acc: 0.9946 - val_loss: 0.6225 - val_acc: 0.9363\n",
            "\n",
            "Epoch 00042: val_acc did not improve from 0.94600\n",
            "Epoch 43/150\n",
            "8286/8286 [==============================] - 2s 236us/step - loss: 0.0354 - acc: 0.9920 - val_loss: 0.7189 - val_acc: 0.9384\n",
            "\n",
            "Epoch 00043: val_acc did not improve from 0.94600\n",
            "Epoch 44/150\n",
            "8286/8286 [==============================] - 2s 237us/step - loss: 0.0347 - acc: 0.9925 - val_loss: 0.6403 - val_acc: 0.9374\n",
            "\n",
            "Epoch 00044: val_acc did not improve from 0.94600\n",
            "Epoch 45/150\n",
            "8286/8286 [==============================] - 2s 240us/step - loss: 0.0327 - acc: 0.9923 - val_loss: 0.6171 - val_acc: 0.9341\n",
            "\n",
            "Epoch 00045: val_acc did not improve from 0.94600\n",
            "Epoch 46/150\n",
            "8286/8286 [==============================] - 2s 238us/step - loss: 0.0322 - acc: 0.9932 - val_loss: 0.5288 - val_acc: 0.9395\n",
            "\n",
            "Epoch 00046: val_acc did not improve from 0.94600\n",
            "Epoch 47/150\n",
            "8286/8286 [==============================] - 2s 238us/step - loss: 0.0209 - acc: 0.9946 - val_loss: 0.6562 - val_acc: 0.9428\n",
            "\n",
            "Epoch 00047: val_acc did not improve from 0.94600\n",
            "Epoch 48/150\n",
            "8286/8286 [==============================] - 2s 237us/step - loss: 0.0186 - acc: 0.9949 - val_loss: 0.5943 - val_acc: 0.9363\n",
            "\n",
            "Epoch 00048: val_acc did not improve from 0.94600\n",
            "Epoch 49/150\n",
            "8286/8286 [==============================] - 2s 238us/step - loss: 0.0237 - acc: 0.9947 - val_loss: 0.6092 - val_acc: 0.9406\n",
            "\n",
            "Epoch 00049: val_acc did not improve from 0.94600\n",
            "Epoch 50/150\n",
            "8286/8286 [==============================] - 2s 240us/step - loss: 0.0135 - acc: 0.9957 - val_loss: 0.6667 - val_acc: 0.9428\n",
            "\n",
            "Epoch 00050: val_acc did not improve from 0.94600\n",
            "Epoch 51/150\n",
            "8286/8286 [==============================] - 2s 243us/step - loss: 0.0212 - acc: 0.9951 - val_loss: 0.7369 - val_acc: 0.9417\n",
            "\n",
            "Epoch 00051: val_acc did not improve from 0.94600\n",
            "Epoch 52/150\n",
            "8286/8286 [==============================] - 2s 248us/step - loss: 0.0400 - acc: 0.9930 - val_loss: 0.6455 - val_acc: 0.9352\n",
            "\n",
            "Epoch 00052: val_acc did not improve from 0.94600\n",
            "Epoch 53/150\n",
            "8286/8286 [==============================] - 2s 245us/step - loss: 0.0210 - acc: 0.9948 - val_loss: 0.7032 - val_acc: 0.9438\n",
            "\n",
            "Epoch 00053: val_acc did not improve from 0.94600\n",
            "Epoch 54/150\n",
            "8286/8286 [==============================] - 2s 244us/step - loss: 0.0247 - acc: 0.9944 - val_loss: 0.8646 - val_acc: 0.9330\n",
            "\n",
            "Epoch 00054: val_acc did not improve from 0.94600\n",
            "Epoch 55/150\n",
            "8286/8286 [==============================] - 2s 245us/step - loss: 0.0306 - acc: 0.9931 - val_loss: 0.6383 - val_acc: 0.9341\n",
            "\n",
            "Epoch 00055: val_acc did not improve from 0.94600\n",
            "Epoch 56/150\n",
            "8286/8286 [==============================] - 2s 244us/step - loss: 0.0222 - acc: 0.9940 - val_loss: 0.5422 - val_acc: 0.9449\n",
            "\n",
            "Epoch 00056: val_acc did not improve from 0.94600\n",
            "Epoch 00056: early stopping\n"
          ],
          "name": "stdout"
        }
      ]
    },
    {
      "cell_type": "markdown",
      "metadata": {
        "id": "fuvqZ_A7aIYv",
        "colab_type": "text"
      },
      "source": [
        "###Grafico de entrenamiento"
      ]
    },
    {
      "cell_type": "code",
      "metadata": {
        "id": "lAQugMdMhqPf",
        "colab_type": "code",
        "outputId": "d4d05285-5c26-46a7-f4da-29ad09efcfb9",
        "colab": {
          "base_uri": "https://localhost:8080/",
          "height": 545
        }
      },
      "source": [
        "import matplotlib.pyplot as plt\n",
        "\n",
        "acc = history.history['acc']\n",
        "val_acc = history.history['val_acc']\n",
        "loss = history.history['loss']\n",
        "val_loss = history.history['val_loss']\n",
        "\n",
        "epochs = range(len(acc))\n",
        "\n",
        "plt.plot(epochs, acc, 'bo', label='Training acc')\n",
        "plt.plot(epochs, val_acc, 'b', label='Validation acc')\n",
        "plt.title('Training and validation accuracy')\n",
        "plt.legend()\n",
        "\n",
        "plt.figure()\n",
        "\n",
        "plt.plot(epochs, loss, 'bo', label='Training loss')\n",
        "plt.plot(epochs, val_loss, 'b', label='Validation loss')\n",
        "plt.title('Training and validation loss')\n",
        "plt.legend()\n",
        "\n",
        "plt.show()"
      ],
      "execution_count": 0,
      "outputs": [
        {
          "output_type": "display_data",
          "data": {
            "image/png": "[encoded data removed]",
            "text/plain": [
              "<Figure size 432x288 with 1 Axes>"
            ]
          },
          "metadata": {
            "tags": [],
            "needs_background": "light"
          }
        },
        {
          "output_type": "display_data",
          "data": {
            "image/png": "[encoded data removed]",
            "text/plain": [
              "<Figure size 432x288 with 1 Axes>"
            ]
          },
          "metadata": {
            "tags": [],
            "needs_background": "light"
          }
        }
      ]
    },
    {
      "cell_type": "markdown",
      "metadata": {
        "id": "Be3N70cQaOgC",
        "colab_type": "text"
      },
      "source": [
        "###Se crea el conjunto de test"
      ]
    },
    {
      "cell_type": "code",
      "metadata": {
        "id": "UaShlpFZVHMw",
        "colab_type": "code",
        "colab": {}
      },
      "source": [
        "from PIL import Image\n",
        "nombres = [f'/tmp/test_images/test_{i}.jpg' for i in range(1023)]\n",
        "\n",
        "X_test = np.array([np.array(Image.open(fname)) for fname in nombres])\n",
        "X_test = X_test/255.0\n"
      ],
      "execution_count": 0,
      "outputs": []
    },
    {
      "cell_type": "markdown",
      "metadata": {
        "id": "fIjXQCPraR0X",
        "colab_type": "text"
      },
      "source": [
        "###Se guardan las predicciones del conjunto de test en un CSV"
      ]
    },
    {
      "cell_type": "code",
      "metadata": {
        "id": "-EBa0RNLVJVl",
        "colab_type": "code",
        "colab": {}
      },
      "source": [
        "features_batch = pre_trained_model.predict(X_test)\n",
        "features_batch.shape\n",
        "\n",
        "test_predictions = np.reshape(features_batch, (1023, 4*4*2048))\n",
        "test_predictions.shape\n",
        "\n",
        "mylist = os.listdir('/tmp/output/train/')\n",
        "mylist.sort()\n",
        "predicciones = [mylist[i] for i in model.predict_classes(test_predictions)]\n"
      ],
      "execution_count": 0,
      "outputs": []
    },
    {
      "cell_type": "markdown",
      "metadata": {
        "id": "TnkeesF8aWHg",
        "colab_type": "text"
      },
      "source": [
        "###Se guardan las predicciones del conjunto de test en un CSV"
      ]
    },
    {
      "cell_type": "code",
      "metadata": {
        "id": "xCOSxHfyVLOa",
        "colab_type": "code",
        "colab": {}
      },
      "source": [
        "import csv\n",
        "nombres = [f'test_{i}' for i in range(1023)]\n",
        "nombres.insert(0, 'Id')\n",
        "predicciones.insert(0, 'Expected')\n",
        "with open('/tmp/test_resnet.csv', 'w') as f:\n",
        "    writer = csv.writer(f)\n",
        "    writer.writerows(zip(nombres, predicciones))"
      ],
      "execution_count": 0,
      "outputs": []
    }
  ]
}